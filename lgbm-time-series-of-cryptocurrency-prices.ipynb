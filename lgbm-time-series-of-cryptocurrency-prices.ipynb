{
 "cells": [
  {
   "cell_type": "markdown",
   "id": "f2e93f7b",
   "metadata": {
    "papermill": {
     "duration": 0.013186,
     "end_time": "2023-10-31T13:56:49.335724",
     "exception": false,
     "start_time": "2023-10-31T13:56:49.322538",
     "status": "completed"
    },
    "tags": []
   },
   "source": [
    "# LGBM on time series data of cryptocurrency prices\n",
    "The dataset used in this notebook can be found here: https://www.kaggle.com/competitions/g-research-crypto-forecasting/data\n",
    "\n",
    "I will compare two LGBM baselines,\n",
    "\n",
    "* one that considers each asset independently (i.e. For each asset a Model File will be saved) and,\n",
    "* one multiple inputs that models all assets together (i.e. single Model File will be saved).\n",
    "\n",
    "And in the competition, the predictions will be evaluated on a weighted version of the Pearson correlation coefficient, with weights given by the Weight column in the Asset Details file."
   ]
  },
  {
   "cell_type": "code",
   "execution_count": 1,
   "id": "859ea668",
   "metadata": {
    "execution": {
     "iopub.execute_input": "2023-10-31T13:56:49.363706Z",
     "iopub.status.busy": "2023-10-31T13:56:49.362948Z",
     "iopub.status.idle": "2023-10-31T13:56:53.831726Z",
     "shell.execute_reply": "2023-10-31T13:56:53.830387Z"
    },
    "papermill": {
     "duration": 4.486101,
     "end_time": "2023-10-31T13:56:53.835243",
     "exception": false,
     "start_time": "2023-10-31T13:56:49.349142",
     "status": "completed"
    },
    "tags": []
   },
   "outputs": [
    {
     "name": "stderr",
     "output_type": "stream",
     "text": [
      "/tmp/ipykernel_20/2106194749.py:17: MatplotlibDeprecationWarning: The seaborn styles shipped by Matplotlib are deprecated since 3.6, as they no longer correspond to the styles shipped by seaborn. However, they will remain available as 'seaborn-v0_8-<style>'. Alternatively, directly use the seaborn API instead.\n",
      "  style.use('seaborn-colorblind')\n"
     ]
    }
   ],
   "source": [
    "import os\n",
    "import numpy as np\n",
    "import pandas as pd\n",
    "\n",
    "from tqdm.auto import tqdm\n",
    "import joblib\n",
    "import time\n",
    "import datetime\n",
    "from scipy import stats\n",
    "import matplotlib.pyplot as plt\n",
    "import matplotlib.style as style\n",
    "from matplotlib_venn import venn2, venn3\n",
    "import seaborn as sns\n",
    "from matplotlib import pyplot\n",
    "from matplotlib.ticker import ScalarFormatter\n",
    "sns.set_context(\"talk\")\n",
    "style.use('seaborn-colorblind')\n",
    "from xgboost import XGBRegressor\n",
    "import lightgbm as lgb\n",
    "\n",
    "import warnings\n",
    "warnings.simplefilter('ignore')"
   ]
  },
  {
   "cell_type": "code",
   "execution_count": 2,
   "id": "7b1a3531",
   "metadata": {
    "execution": {
     "iopub.execute_input": "2023-10-31T13:56:53.863180Z",
     "iopub.status.busy": "2023-10-31T13:56:53.862702Z",
     "iopub.status.idle": "2023-10-31T13:56:53.868321Z",
     "shell.execute_reply": "2023-10-31T13:56:53.866913Z"
    },
    "papermill": {
     "duration": 0.023384,
     "end_time": "2023-10-31T13:56:53.871079",
     "exception": false,
     "start_time": "2023-10-31T13:56:53.847695",
     "status": "completed"
    },
    "tags": []
   },
   "outputs": [],
   "source": [
    "ROOT_DIR = '/kaggle/input/g-research-crypto-forecasting'"
   ]
  },
  {
   "cell_type": "markdown",
   "id": "5fc85158",
   "metadata": {
    "papermill": {
     "duration": 0.011728,
     "end_time": "2023-10-31T13:56:53.895307",
     "exception": false,
     "start_time": "2023-10-31T13:56:53.883579",
     "status": "completed"
    },
    "tags": []
   },
   "source": [
    "## Config"
   ]
  },
  {
   "cell_type": "code",
   "execution_count": 3,
   "id": "916cbfed",
   "metadata": {
    "execution": {
     "iopub.execute_input": "2023-10-31T13:56:53.921719Z",
     "iopub.status.busy": "2023-10-31T13:56:53.921273Z",
     "iopub.status.idle": "2023-10-31T13:56:53.927123Z",
     "shell.execute_reply": "2023-10-31T13:56:53.925847Z"
    },
    "papermill": {
     "duration": 0.022581,
     "end_time": "2023-10-31T13:56:53.930046",
     "exception": false,
     "start_time": "2023-10-31T13:56:53.907465",
     "status": "completed"
    },
    "tags": []
   },
   "outputs": [],
   "source": [
    "class CFG:\n",
    "    INPUT_DIR = ROOT_DIR\n",
    "    OUTPUT_DIR = './'\n",
    "    SEED = 42"
   ]
  },
  {
   "cell_type": "markdown",
   "id": "7b17fabe",
   "metadata": {
    "papermill": {
     "duration": 0.012183,
     "end_time": "2023-10-31T13:56:53.955214",
     "exception": false,
     "start_time": "2023-10-31T13:56:53.943031",
     "status": "completed"
    },
    "tags": []
   },
   "source": [
    "## Reduce the memory footprint of the dataset\n",
    "Based on the data type and the range of values, the function below determines the smallest possible data type that can accommodate the data without losing information. For example, if the data type is an integer and the range of values fits within the bounds of an int8 data type, the function converts the column data type to int8."
   ]
  },
  {
   "cell_type": "code",
   "execution_count": 4,
   "id": "e3bdc147",
   "metadata": {
    "execution": {
     "iopub.execute_input": "2023-10-31T13:56:53.983697Z",
     "iopub.status.busy": "2023-10-31T13:56:53.982955Z",
     "iopub.status.idle": "2023-10-31T13:56:53.995498Z",
     "shell.execute_reply": "2023-10-31T13:56:53.994477Z"
    },
    "papermill": {
     "duration": 0.029055,
     "end_time": "2023-10-31T13:56:53.998109",
     "exception": false,
     "start_time": "2023-10-31T13:56:53.969054",
     "status": "completed"
    },
    "tags": []
   },
   "outputs": [],
   "source": [
    "def get_optimal_numeric_type(c_min: float, c_max: float, col_type: str) -> str:\n",
    "    \"\"\"\n",
    "    Determines the optimal numeric data type for a given range of values.\n",
    "\n",
    "    Parameters\n",
    "    ----------\n",
    "    c_min : float\n",
    "        The minimum value of the data.\n",
    "    c_max : float\n",
    "        The maximum value of the data.\n",
    "    col_type : str\n",
    "        The current data type of the column ('int' or 'float').\n",
    "\n",
    "    Returns\n",
    "    -------\n",
    "    optimal_type : str\n",
    "        The optimal data type for the given range of values.\n",
    "    \"\"\"\n",
    "    type_info = np.iinfo if col_type == 'int' else np.finfo\n",
    "    for dtype in [np.int8, np.int16, np.int32, np.int64, np.float16, np.float32, np.float64]:\n",
    "        if col_type in str(dtype):\n",
    "            if c_min > type_info(dtype).min and c_max < type_info(dtype).max:\n",
    "                return dtype\n",
    "    return None\n",
    "\n",
    "\"\"\" Based on the data type and the range of values, the function determines the smallest possible data type that can accommodate the data without losing information. For example, if the data type is an integer and the range of values fits within the bounds of an int8 data type, the function converts the column data type to int8: \"\"\"\n",
    "\n",
    "def reduce_memory_usage(df: pd.DataFrame) -> pd.DataFrame:\n",
    "    \"\"\"\n",
    "    Reduces memory usage of a pandas DataFrame by converting its columns to the most memory-efficient data types\n",
    "    without losing information.\n",
    "\n",
    "    Parameters\n",
    "    ----------\n",
    "    df : pd.DataFrame\n",
    "        The input pandas DataFrame that needs memory optimization.\n",
    "\n",
    "    Returns\n",
    "    -------\n",
    "    df : pd.DataFrame\n",
    "        The optimized pandas DataFrame with reduced memory usage.\n",
    "    \"\"\"\n",
    "\n",
    "    # Iterate through each column in the DataFrame\n",
    "    df_copy = df.copy()\n",
    "    for col in df_copy.columns:\n",
    "        col_type = df_copy[col].dtype\n",
    "\n",
    "        # Check if the data type is not an object (i.e., numeric type)\n",
    "        if col_type != object:\n",
    "            c_min, c_max = df_copy[col].min(), df_copy[col].max()\n",
    "            col_type_str = 'int' if 'int' in str(col_type) else 'float'\n",
    "            optimal_type = get_optimal_numeric_type(c_min, c_max, col_type_str)\n",
    "            if optimal_type:\n",
    "                df_copy[col] = df_copy[col].astype(optimal_type)\n",
    "        # If the data type is an object, convert the column to a 'category' data type\n",
    "        else:\n",
    "            df_copy[col] = df_copy[col].astype('category')\n",
    "\n",
    "    # Return the optimized DataFrame with reduced memory usage\n",
    "    return df_copy"
   ]
  },
  {
   "cell_type": "markdown",
   "id": "f9d378c6",
   "metadata": {
    "papermill": {
     "duration": 0.011647,
     "end_time": "2023-10-31T13:56:54.022267",
     "exception": false,
     "start_time": "2023-10-31T13:56:54.010620",
     "status": "completed"
    },
    "tags": []
   },
   "source": [
    "## The dataset - train.csv\n",
    "* timestamp - A timestamp for the minute covered by the row.\n",
    "* Asset_ID - An ID code for the cryptoasset.\n",
    "* Count - The number of trades that took place this minute.\n",
    "* Open - The USD price at the beginning of the minute.\n",
    "* High - The highest USD price during the minute.\n",
    "* Low - The lowest USD price during the minute.\n",
    "* Close - The USD price at the end of the minute.\n",
    "* Volume - The number of cryptoasset units traded during the minute.\n",
    "* VWAP - The volume weighted average price for the minute.\n",
    "* Target - 15 minute residualized returns. "
   ]
  },
  {
   "cell_type": "code",
   "execution_count": 5,
   "id": "e176ea1a",
   "metadata": {
    "execution": {
     "iopub.execute_input": "2023-10-31T13:56:54.050355Z",
     "iopub.status.busy": "2023-10-31T13:56:54.049245Z",
     "iopub.status.idle": "2023-10-31T13:58:00.043812Z",
     "shell.execute_reply": "2023-10-31T13:58:00.042749Z"
    },
    "papermill": {
     "duration": 66.023225,
     "end_time": "2023-10-31T13:58:00.057704",
     "exception": false,
     "start_time": "2023-10-31T13:56:54.034479",
     "status": "completed"
    },
    "tags": []
   },
   "outputs": [
    {
     "name": "stdout",
     "output_type": "stream",
     "text": [
      "<class 'pandas.core.frame.DataFrame'>\n",
      "RangeIndex: 24236806 entries, 0 to 24236805\n",
      "Data columns (total 10 columns):\n",
      " #   Column     Dtype  \n",
      "---  ------     -----  \n",
      " 0   timestamp  int64  \n",
      " 1   Asset_ID   int64  \n",
      " 2   Count      float64\n",
      " 3   Open       float64\n",
      " 4   High       float64\n",
      " 5   Low        float64\n",
      " 6   Close      float64\n",
      " 7   Volume     float64\n",
      " 8   VWAP       float64\n",
      " 9   Target     float64\n",
      "dtypes: float64(8), int64(2)\n",
      "memory usage: 1.8 GB\n"
     ]
    }
   ],
   "source": [
    "before = pd.read_csv(os.path.join(CFG.INPUT_DIR, 'train.csv'))\n",
    "before.info()"
   ]
  },
  {
   "cell_type": "code",
   "execution_count": 6,
   "id": "46f629fc",
   "metadata": {
    "execution": {
     "iopub.execute_input": "2023-10-31T13:58:00.086105Z",
     "iopub.status.busy": "2023-10-31T13:58:00.085020Z",
     "iopub.status.idle": "2023-10-31T13:59:06.750667Z",
     "shell.execute_reply": "2023-10-31T13:59:06.748737Z"
    },
    "papermill": {
     "duration": 66.699362,
     "end_time": "2023-10-31T13:59:06.769158",
     "exception": false,
     "start_time": "2023-10-31T13:58:00.069796",
     "status": "completed"
    },
    "tags": []
   },
   "outputs": [
    {
     "name": "stdout",
     "output_type": "stream",
     "text": [
      "(24236806, 10)\n",
      "CPU times: user 49.7 s, sys: 10.8 s, total: 1min\n",
      "Wall time: 1min 6s\n"
     ]
    },
    {
     "data": {
      "text/html": [
       "<div>\n",
       "<style scoped>\n",
       "    .dataframe tbody tr th:only-of-type {\n",
       "        vertical-align: middle;\n",
       "    }\n",
       "\n",
       "    .dataframe tbody tr th {\n",
       "        vertical-align: top;\n",
       "    }\n",
       "\n",
       "    .dataframe thead th {\n",
       "        text-align: right;\n",
       "    }\n",
       "</style>\n",
       "<table border=\"1\" class=\"dataframe\">\n",
       "  <thead>\n",
       "    <tr style=\"text-align: right;\">\n",
       "      <th></th>\n",
       "      <th>timestamp</th>\n",
       "      <th>Asset_ID</th>\n",
       "      <th>Count</th>\n",
       "      <th>Open</th>\n",
       "      <th>High</th>\n",
       "      <th>Low</th>\n",
       "      <th>Close</th>\n",
       "      <th>Volume</th>\n",
       "      <th>VWAP</th>\n",
       "      <th>Target</th>\n",
       "    </tr>\n",
       "  </thead>\n",
       "  <tbody>\n",
       "    <tr>\n",
       "      <th>0</th>\n",
       "      <td>1514764860</td>\n",
       "      <td>2</td>\n",
       "      <td>40.0</td>\n",
       "      <td>2376.000000</td>\n",
       "      <td>2400.000000</td>\n",
       "      <td>2358.00000</td>\n",
       "      <td>2374.00000</td>\n",
       "      <td>19.233006</td>\n",
       "      <td>2373.116392</td>\n",
       "      <td>-0.004219</td>\n",
       "    </tr>\n",
       "    <tr>\n",
       "      <th>1</th>\n",
       "      <td>1514764860</td>\n",
       "      <td>0</td>\n",
       "      <td>5.0</td>\n",
       "      <td>8.531250</td>\n",
       "      <td>8.531250</td>\n",
       "      <td>8.53125</td>\n",
       "      <td>8.53125</td>\n",
       "      <td>78.379997</td>\n",
       "      <td>8.530000</td>\n",
       "      <td>-0.014397</td>\n",
       "    </tr>\n",
       "    <tr>\n",
       "      <th>2</th>\n",
       "      <td>1514764860</td>\n",
       "      <td>1</td>\n",
       "      <td>229.0</td>\n",
       "      <td>13832.000000</td>\n",
       "      <td>14016.000000</td>\n",
       "      <td>13664.00000</td>\n",
       "      <td>13848.00000</td>\n",
       "      <td>31.550062</td>\n",
       "      <td>13827.062093</td>\n",
       "      <td>-0.014641</td>\n",
       "    </tr>\n",
       "    <tr>\n",
       "      <th>3</th>\n",
       "      <td>1514764860</td>\n",
       "      <td>5</td>\n",
       "      <td>32.0</td>\n",
       "      <td>7.660156</td>\n",
       "      <td>7.660156</td>\n",
       "      <td>7.65625</td>\n",
       "      <td>7.65625</td>\n",
       "      <td>6626.713379</td>\n",
       "      <td>7.657713</td>\n",
       "      <td>-0.013924</td>\n",
       "    </tr>\n",
       "    <tr>\n",
       "      <th>4</th>\n",
       "      <td>1514764860</td>\n",
       "      <td>7</td>\n",
       "      <td>5.0</td>\n",
       "      <td>25.921875</td>\n",
       "      <td>25.921875</td>\n",
       "      <td>25.87500</td>\n",
       "      <td>25.87500</td>\n",
       "      <td>121.087311</td>\n",
       "      <td>25.891363</td>\n",
       "      <td>-0.008263</td>\n",
       "    </tr>\n",
       "  </tbody>\n",
       "</table>\n",
       "</div>"
      ],
      "text/plain": [
       "    timestamp  Asset_ID  Count          Open          High          Low  \\\n",
       "0  1514764860         2   40.0   2376.000000   2400.000000   2358.00000   \n",
       "1  1514764860         0    5.0      8.531250      8.531250      8.53125   \n",
       "2  1514764860         1  229.0  13832.000000  14016.000000  13664.00000   \n",
       "3  1514764860         5   32.0      7.660156      7.660156      7.65625   \n",
       "4  1514764860         7    5.0     25.921875     25.921875     25.87500   \n",
       "\n",
       "         Close       Volume          VWAP    Target  \n",
       "0   2374.00000    19.233006   2373.116392 -0.004219  \n",
       "1      8.53125    78.379997      8.530000 -0.014397  \n",
       "2  13848.00000    31.550062  13827.062093 -0.014641  \n",
       "3      7.65625  6626.713379      7.657713 -0.013924  \n",
       "4     25.87500   121.087311     25.891363 -0.008263  "
      ]
     },
     "execution_count": 6,
     "metadata": {},
     "output_type": "execute_result"
    }
   ],
   "source": [
    "%%time\n",
    "\n",
    "train = pd.read_csv(os.path.join(CFG.INPUT_DIR, 'train.csv')).pipe(reduce_memory_usage)\n",
    "print(train.shape)\n",
    "train.head()"
   ]
  },
  {
   "cell_type": "code",
   "execution_count": 7,
   "id": "f20def20",
   "metadata": {
    "execution": {
     "iopub.execute_input": "2023-10-31T13:59:06.801608Z",
     "iopub.status.busy": "2023-10-31T13:59:06.800925Z",
     "iopub.status.idle": "2023-10-31T13:59:06.826249Z",
     "shell.execute_reply": "2023-10-31T13:59:06.824260Z"
    },
    "papermill": {
     "duration": 0.045252,
     "end_time": "2023-10-31T13:59:06.829576",
     "exception": false,
     "start_time": "2023-10-31T13:59:06.784324",
     "status": "completed"
    },
    "tags": []
   },
   "outputs": [
    {
     "data": {
      "text/html": [
       "<div>\n",
       "<style scoped>\n",
       "    .dataframe tbody tr th:only-of-type {\n",
       "        vertical-align: middle;\n",
       "    }\n",
       "\n",
       "    .dataframe tbody tr th {\n",
       "        vertical-align: top;\n",
       "    }\n",
       "\n",
       "    .dataframe thead th {\n",
       "        text-align: right;\n",
       "    }\n",
       "</style>\n",
       "<table border=\"1\" class=\"dataframe\">\n",
       "  <thead>\n",
       "    <tr style=\"text-align: right;\">\n",
       "      <th></th>\n",
       "      <th>timestamp</th>\n",
       "      <th>Asset_ID</th>\n",
       "      <th>Count</th>\n",
       "      <th>Open</th>\n",
       "      <th>High</th>\n",
       "      <th>Low</th>\n",
       "      <th>Close</th>\n",
       "      <th>Volume</th>\n",
       "      <th>VWAP</th>\n",
       "      <th>Target</th>\n",
       "    </tr>\n",
       "  </thead>\n",
       "  <tbody>\n",
       "    <tr>\n",
       "      <th>24236801</th>\n",
       "      <td>1632182400</td>\n",
       "      <td>9</td>\n",
       "      <td>775.0</td>\n",
       "      <td>157.125000</td>\n",
       "      <td>157.250000</td>\n",
       "      <td>156.750000</td>\n",
       "      <td>157.000000</td>\n",
       "      <td>4.663726e+03</td>\n",
       "      <td>156.994319</td>\n",
       "      <td>NaN</td>\n",
       "    </tr>\n",
       "    <tr>\n",
       "      <th>24236802</th>\n",
       "      <td>1632182400</td>\n",
       "      <td>10</td>\n",
       "      <td>34.0</td>\n",
       "      <td>2438.000000</td>\n",
       "      <td>2438.000000</td>\n",
       "      <td>2430.000000</td>\n",
       "      <td>2432.000000</td>\n",
       "      <td>3.975460e+00</td>\n",
       "      <td>2434.818747</td>\n",
       "      <td>NaN</td>\n",
       "    </tr>\n",
       "    <tr>\n",
       "      <th>24236803</th>\n",
       "      <td>1632182400</td>\n",
       "      <td>13</td>\n",
       "      <td>380.0</td>\n",
       "      <td>0.091370</td>\n",
       "      <td>0.091553</td>\n",
       "      <td>0.091248</td>\n",
       "      <td>0.091370</td>\n",
       "      <td>2.193732e+06</td>\n",
       "      <td>0.091388</td>\n",
       "      <td>NaN</td>\n",
       "    </tr>\n",
       "    <tr>\n",
       "      <th>24236804</th>\n",
       "      <td>1632182400</td>\n",
       "      <td>12</td>\n",
       "      <td>177.0</td>\n",
       "      <td>0.282227</td>\n",
       "      <td>0.282471</td>\n",
       "      <td>0.281738</td>\n",
       "      <td>0.281982</td>\n",
       "      <td>1.828508e+05</td>\n",
       "      <td>0.282134</td>\n",
       "      <td>NaN</td>\n",
       "    </tr>\n",
       "    <tr>\n",
       "      <th>24236805</th>\n",
       "      <td>1632182400</td>\n",
       "      <td>11</td>\n",
       "      <td>48.0</td>\n",
       "      <td>232.750000</td>\n",
       "      <td>232.750000</td>\n",
       "      <td>232.250000</td>\n",
       "      <td>232.250000</td>\n",
       "      <td>1.035123e+02</td>\n",
       "      <td>232.569697</td>\n",
       "      <td>NaN</td>\n",
       "    </tr>\n",
       "  </tbody>\n",
       "</table>\n",
       "</div>"
      ],
      "text/plain": [
       "           timestamp  Asset_ID  Count         Open         High          Low  \\\n",
       "24236801  1632182400         9  775.0   157.125000   157.250000   156.750000   \n",
       "24236802  1632182400        10   34.0  2438.000000  2438.000000  2430.000000   \n",
       "24236803  1632182400        13  380.0     0.091370     0.091553     0.091248   \n",
       "24236804  1632182400        12  177.0     0.282227     0.282471     0.281738   \n",
       "24236805  1632182400        11   48.0   232.750000   232.750000   232.250000   \n",
       "\n",
       "                Close        Volume         VWAP  Target  \n",
       "24236801   157.000000  4.663726e+03   156.994319     NaN  \n",
       "24236802  2432.000000  3.975460e+00  2434.818747     NaN  \n",
       "24236803     0.091370  2.193732e+06     0.091388     NaN  \n",
       "24236804     0.281982  1.828508e+05     0.282134     NaN  \n",
       "24236805   232.250000  1.035123e+02   232.569697     NaN  "
      ]
     },
     "execution_count": 7,
     "metadata": {},
     "output_type": "execute_result"
    }
   ],
   "source": [
    "train.tail()"
   ]
  },
  {
   "cell_type": "code",
   "execution_count": 8,
   "id": "9b6479df",
   "metadata": {
    "execution": {
     "iopub.execute_input": "2023-10-31T13:59:06.860500Z",
     "iopub.status.busy": "2023-10-31T13:59:06.859300Z",
     "iopub.status.idle": "2023-10-31T13:59:06.876294Z",
     "shell.execute_reply": "2023-10-31T13:59:06.873992Z"
    },
    "papermill": {
     "duration": 0.03743,
     "end_time": "2023-10-31T13:59:06.880423",
     "exception": false,
     "start_time": "2023-10-31T13:59:06.842993",
     "status": "completed"
    },
    "tags": []
   },
   "outputs": [
    {
     "name": "stdout",
     "output_type": "stream",
     "text": [
      "<class 'pandas.core.frame.DataFrame'>\n",
      "RangeIndex: 24236806 entries, 0 to 24236805\n",
      "Data columns (total 10 columns):\n",
      " #   Column     Dtype  \n",
      "---  ------     -----  \n",
      " 0   timestamp  int32  \n",
      " 1   Asset_ID   int8   \n",
      " 2   Count      float32\n",
      " 3   Open       float16\n",
      " 4   High       float16\n",
      " 5   Low        float16\n",
      " 6   Close      float16\n",
      " 7   Volume     float32\n",
      " 8   VWAP       float64\n",
      " 9   Target     float16\n",
      "dtypes: float16(5), float32(2), float64(1), int32(1), int8(1)\n",
      "memory usage: 716.5 MB\n"
     ]
    }
   ],
   "source": [
    "train.info() # A quite nice memory reduction"
   ]
  },
  {
   "cell_type": "code",
   "execution_count": 9,
   "id": "e4e5238e",
   "metadata": {
    "execution": {
     "iopub.execute_input": "2023-10-31T13:59:06.911504Z",
     "iopub.status.busy": "2023-10-31T13:59:06.911008Z",
     "iopub.status.idle": "2023-10-31T13:59:07.486855Z",
     "shell.execute_reply": "2023-10-31T13:59:07.485541Z"
    },
    "papermill": {
     "duration": 0.59431,
     "end_time": "2023-10-31T13:59:07.489755",
     "exception": false,
     "start_time": "2023-10-31T13:59:06.895445",
     "status": "completed"
    },
    "tags": []
   },
   "outputs": [
    {
     "data": {
      "text/plain": [
       "timestamp         0\n",
       "Asset_ID          0\n",
       "Count             0\n",
       "Open              0\n",
       "High              0\n",
       "Low               0\n",
       "Close             0\n",
       "Volume            0\n",
       "VWAP              9\n",
       "Target       750338\n",
       "dtype: int64"
      ]
     },
     "execution_count": 9,
     "metadata": {},
     "output_type": "execute_result"
    }
   ],
   "source": [
    "# missing values?\n",
    "train.isna().sum()"
   ]
  },
  {
   "cell_type": "markdown",
   "id": "c5546c41",
   "metadata": {
    "papermill": {
     "duration": 0.013788,
     "end_time": "2023-10-31T13:59:07.517608",
     "exception": false,
     "start_time": "2023-10-31T13:59:07.503820",
     "status": "completed"
    },
    "tags": []
   },
   "source": [
    "## asset_details.csv\n",
    "Provides the real name and of the cryptoasset for each Asset_ID and the weight each cryptoasset receives in the metric."
   ]
  },
  {
   "cell_type": "code",
   "execution_count": 10,
   "id": "166944f8",
   "metadata": {
    "execution": {
     "iopub.execute_input": "2023-10-31T13:59:07.548237Z",
     "iopub.status.busy": "2023-10-31T13:59:07.547739Z",
     "iopub.status.idle": "2023-10-31T13:59:07.571661Z",
     "shell.execute_reply": "2023-10-31T13:59:07.570448Z"
    },
    "papermill": {
     "duration": 0.042802,
     "end_time": "2023-10-31T13:59:07.574181",
     "exception": false,
     "start_time": "2023-10-31T13:59:07.531379",
     "status": "completed"
    },
    "tags": []
   },
   "outputs": [
    {
     "name": "stdout",
     "output_type": "stream",
     "text": [
      "(14, 3)\n"
     ]
    },
    {
     "data": {
      "text/html": [
       "<div>\n",
       "<style scoped>\n",
       "    .dataframe tbody tr th:only-of-type {\n",
       "        vertical-align: middle;\n",
       "    }\n",
       "\n",
       "    .dataframe tbody tr th {\n",
       "        vertical-align: top;\n",
       "    }\n",
       "\n",
       "    .dataframe thead th {\n",
       "        text-align: right;\n",
       "    }\n",
       "</style>\n",
       "<table border=\"1\" class=\"dataframe\">\n",
       "  <thead>\n",
       "    <tr style=\"text-align: right;\">\n",
       "      <th></th>\n",
       "      <th>Asset_ID</th>\n",
       "      <th>Weight</th>\n",
       "      <th>Asset_Name</th>\n",
       "    </tr>\n",
       "  </thead>\n",
       "  <tbody>\n",
       "    <tr>\n",
       "      <th>0</th>\n",
       "      <td>2</td>\n",
       "      <td>2.397895</td>\n",
       "      <td>Bitcoin Cash</td>\n",
       "    </tr>\n",
       "    <tr>\n",
       "      <th>1</th>\n",
       "      <td>0</td>\n",
       "      <td>4.304065</td>\n",
       "      <td>Binance Coin</td>\n",
       "    </tr>\n",
       "    <tr>\n",
       "      <th>2</th>\n",
       "      <td>1</td>\n",
       "      <td>6.779922</td>\n",
       "      <td>Bitcoin</td>\n",
       "    </tr>\n",
       "    <tr>\n",
       "      <th>3</th>\n",
       "      <td>5</td>\n",
       "      <td>1.386294</td>\n",
       "      <td>EOS.IO</td>\n",
       "    </tr>\n",
       "    <tr>\n",
       "      <th>4</th>\n",
       "      <td>7</td>\n",
       "      <td>2.079442</td>\n",
       "      <td>Ethereum Classic</td>\n",
       "    </tr>\n",
       "    <tr>\n",
       "      <th>5</th>\n",
       "      <td>6</td>\n",
       "      <td>5.894403</td>\n",
       "      <td>Ethereum</td>\n",
       "    </tr>\n",
       "    <tr>\n",
       "      <th>6</th>\n",
       "      <td>9</td>\n",
       "      <td>2.397895</td>\n",
       "      <td>Litecoin</td>\n",
       "    </tr>\n",
       "    <tr>\n",
       "      <th>7</th>\n",
       "      <td>11</td>\n",
       "      <td>1.609438</td>\n",
       "      <td>Monero</td>\n",
       "    </tr>\n",
       "    <tr>\n",
       "      <th>8</th>\n",
       "      <td>13</td>\n",
       "      <td>1.791759</td>\n",
       "      <td>TRON</td>\n",
       "    </tr>\n",
       "    <tr>\n",
       "      <th>9</th>\n",
       "      <td>12</td>\n",
       "      <td>2.079442</td>\n",
       "      <td>Stellar</td>\n",
       "    </tr>\n",
       "    <tr>\n",
       "      <th>10</th>\n",
       "      <td>3</td>\n",
       "      <td>4.406719</td>\n",
       "      <td>Cardano</td>\n",
       "    </tr>\n",
       "    <tr>\n",
       "      <th>11</th>\n",
       "      <td>8</td>\n",
       "      <td>1.098612</td>\n",
       "      <td>IOTA</td>\n",
       "    </tr>\n",
       "    <tr>\n",
       "      <th>12</th>\n",
       "      <td>10</td>\n",
       "      <td>1.098612</td>\n",
       "      <td>Maker</td>\n",
       "    </tr>\n",
       "    <tr>\n",
       "      <th>13</th>\n",
       "      <td>4</td>\n",
       "      <td>3.555348</td>\n",
       "      <td>Dogecoin</td>\n",
       "    </tr>\n",
       "  </tbody>\n",
       "</table>\n",
       "</div>"
      ],
      "text/plain": [
       "    Asset_ID    Weight        Asset_Name\n",
       "0          2  2.397895      Bitcoin Cash\n",
       "1          0  4.304065      Binance Coin\n",
       "2          1  6.779922           Bitcoin\n",
       "3          5  1.386294            EOS.IO\n",
       "4          7  2.079442  Ethereum Classic\n",
       "5          6  5.894403          Ethereum\n",
       "6          9  2.397895          Litecoin\n",
       "7         11  1.609438            Monero\n",
       "8         13  1.791759              TRON\n",
       "9         12  2.079442           Stellar\n",
       "10         3  4.406719           Cardano\n",
       "11         8  1.098612              IOTA\n",
       "12        10  1.098612             Maker\n",
       "13         4  3.555348          Dogecoin"
      ]
     },
     "execution_count": 10,
     "metadata": {},
     "output_type": "execute_result"
    }
   ],
   "source": [
    "asset_details = pd.read_csv(os.path.join(CFG.INPUT_DIR, 'asset_details.csv'))\n",
    "asset_details['Asset_ID'] = asset_details['Asset_ID'].astype(np.int8)\n",
    "print(asset_details.shape)\n",
    "asset_details"
   ]
  },
  {
   "cell_type": "markdown",
   "id": "1956a7e1",
   "metadata": {
    "papermill": {
     "duration": 0.013321,
     "end_time": "2023-10-31T13:59:07.602613",
     "exception": false,
     "start_time": "2023-10-31T13:59:07.589292",
     "status": "completed"
    },
    "tags": []
   },
   "source": [
    "## Feature engineering"
   ]
  },
  {
   "cell_type": "code",
   "execution_count": 11,
   "id": "1cea87e6",
   "metadata": {
    "execution": {
     "iopub.execute_input": "2023-10-31T13:59:07.633827Z",
     "iopub.status.busy": "2023-10-31T13:59:07.633097Z",
     "iopub.status.idle": "2023-10-31T13:59:11.704912Z",
     "shell.execute_reply": "2023-10-31T13:59:11.703009Z"
    },
    "papermill": {
     "duration": 4.092015,
     "end_time": "2023-10-31T13:59:11.708573",
     "exception": false,
     "start_time": "2023-10-31T13:59:07.616558",
     "status": "completed"
    },
    "tags": []
   },
   "outputs": [
    {
     "name": "stdout",
     "output_type": "stream",
     "text": [
      ">> data goes from  2018-01-01T00:01:00 to  2021-09-21T00:00:00 shape= (24236806, 9)\n"
     ]
    }
   ],
   "source": [
    "# select train and validation period\n",
    "\n",
    "# auxiliary function, from datetime to timestamp\n",
    "totimestamp = lambda s: np.int32(time.mktime(datetime.datetime.strptime(s, \"%d/%m/%Y\").timetuple()))\n",
    "\n",
    "train_window = [totimestamp(\"01/01/2018\"), totimestamp(\"01/06/2021\")]\n",
    "\n",
    "valid_window = [totimestamp(\"02/06/2020\"), totimestamp(\"21/09/2021\")]\n",
    "\n",
    "train = train.set_index(\"timestamp\")\n",
    "\n",
    "beg_ = train.index[0].astype('datetime64[s]')\n",
    "end_ = train.index[-1].astype('datetime64[s]')\n",
    "\"\"\" taking the first and last index values and converting the retrieved index values into datetime objects with second precision. \"\"\"\n",
    "\n",
    "print('>> data goes from ', beg_, 'to ', end_, 'shape=', train.shape)\n",
    "\n",
    "# drop rows without target\n",
    "train.dropna(subset=['Target'], inplace=True)\n",
    "\n",
    "# add train flag\n",
    "train['train_flg'] = 1\n",
    "\n",
    "train.loc[valid_window[0]:valid_window[1], 'train_flg'] = 0"
   ]
  },
  {
   "cell_type": "markdown",
   "id": "e2a33d8f",
   "metadata": {
    "papermill": {
     "duration": 0.014244,
     "end_time": "2023-10-31T13:59:11.737284",
     "exception": false,
     "start_time": "2023-10-31T13:59:11.723040",
     "status": "completed"
    },
    "tags": []
   },
   "source": [
    "### Merge the Asset Details .csv file to get the \"Weights\" for each of the Assets, which will be required for the evaluation parts"
   ]
  },
  {
   "cell_type": "code",
   "execution_count": 12,
   "id": "c9c7ef53",
   "metadata": {
    "execution": {
     "iopub.execute_input": "2023-10-31T13:59:11.767275Z",
     "iopub.status.busy": "2023-10-31T13:59:11.766626Z",
     "iopub.status.idle": "2023-10-31T13:59:15.428205Z",
     "shell.execute_reply": "2023-10-31T13:59:15.426625Z"
    },
    "papermill": {
     "duration": 3.681343,
     "end_time": "2023-10-31T13:59:15.432513",
     "exception": false,
     "start_time": "2023-10-31T13:59:11.751170",
     "status": "completed"
    },
    "tags": []
   },
   "outputs": [],
   "source": [
    "def merge_asset_details(train, asset_details):\n",
    "    \"\"\"Add asset details to train df\n",
    "    \"\"\"\n",
    "    return train.merge(\n",
    "        asset_details\n",
    "        , how='left'\n",
    "        , on='Asset_ID'\n",
    "    )\n",
    "\n",
    "# merge asset_details\n",
    "train = merge_asset_details(train, asset_details)"
   ]
  },
  {
   "cell_type": "code",
   "execution_count": 13,
   "id": "3deb591b",
   "metadata": {
    "execution": {
     "iopub.execute_input": "2023-10-31T13:59:15.467280Z",
     "iopub.status.busy": "2023-10-31T13:59:15.466869Z",
     "iopub.status.idle": "2023-10-31T13:59:15.478768Z",
     "shell.execute_reply": "2023-10-31T13:59:15.477237Z"
    },
    "papermill": {
     "duration": 0.03098,
     "end_time": "2023-10-31T13:59:15.481526",
     "exception": false,
     "start_time": "2023-10-31T13:59:15.450546",
     "status": "completed"
    },
    "tags": []
   },
   "outputs": [],
   "source": [
    "def get_features(df: pd.DataFrame) -> pd.DataFrame:\n",
    "    \"\"\"\n",
    "    Extract additional features from the given DataFrame for financial analysis.\n",
    "    \n",
    "    Parameters\n",
    "    ----------\n",
    "    df : pd.DataFrame\n",
    "        A pandas DataFrame containing the stock data with columns:\n",
    "        'Open', 'High', 'Low', 'Close', 'Volume', and 'Count'.\n",
    "    \n",
    "    Returns\n",
    "    -------\n",
    "    df_copy : pd.DataFrame\n",
    "        A new DataFrame with the extracted features as additional columns.\n",
    "    \"\"\"\n",
    "    # Create a copy of the input DataFrame to avoid modifying the original data\n",
    "    df_copy = df.copy()\n",
    "\n",
    "    # Calculate the upper and lower shadows for the candlestick chart\n",
    "    df_copy['upper_shadow'] = df_copy['High'] - np.maximum(df_copy['Close'], df_copy['Open'])\n",
    "    df_copy['lower_shadow'] = np.minimum(df_copy['Close'], df_copy['Open']) - df_copy['Low']\n",
    "\n",
    "    # Calculate the ratio of closing price to opening price\n",
    "    df_copy['open2close'] = df_copy['Close'] / df_copy['Open']\n",
    "\n",
    "    # Calculate the ratio of the highest price to the lowest price\n",
    "    df_copy['high2low'] = df_copy['High'] / df_copy['Low']\n",
    "\n",
    "    # Calculate the mean and median prices for each row\n",
    "    mean_price = df_copy[['Open', 'High', 'Low', 'Close']].mean(axis=1)\n",
    "    median_price = df_copy[['Open', 'High', 'Low', 'Close']].median(axis=1)\n",
    "\n",
    "    # Calculate the ratios of high and low prices to the mean and median prices\n",
    "    df_copy['high2mean'] = df_copy['High'] / mean_price\n",
    "    df_copy['low2mean'] = df_copy['Low'] / mean_price\n",
    "    df_copy['high2median'] = df_copy['High'] / median_price\n",
    "    df_copy['low2median'] = df_copy['Low'] / median_price\n",
    "\n",
    "    # Calculate the ratio of volume to the count, adding 1 to avoid division by zero\n",
    "    df_copy['volume2count'] = df_copy['Volume'] / (df_copy['Count'] + 1)\n",
    "\n",
    "    return df_copy"
   ]
  },
  {
   "cell_type": "code",
   "execution_count": 14,
   "id": "91b7aa1c",
   "metadata": {
    "execution": {
     "iopub.execute_input": "2023-10-31T13:59:15.513179Z",
     "iopub.status.busy": "2023-10-31T13:59:15.512432Z",
     "iopub.status.idle": "2023-10-31T13:59:45.150766Z",
     "shell.execute_reply": "2023-10-31T13:59:45.149865Z"
    },
    "papermill": {
     "duration": 29.657573,
     "end_time": "2023-10-31T13:59:45.153396",
     "exception": false,
     "start_time": "2023-10-31T13:59:15.495823",
     "status": "completed"
    },
    "tags": []
   },
   "outputs": [
    {
     "name": "stdout",
     "output_type": "stream",
     "text": [
      "(23486468, 21)\n",
      "CPU times: user 26.3 s, sys: 3.27 s, total: 29.5 s\n",
      "Wall time: 29.6 s\n"
     ]
    },
    {
     "data": {
      "text/html": [
       "<div>\n",
       "<style scoped>\n",
       "    .dataframe tbody tr th:only-of-type {\n",
       "        vertical-align: middle;\n",
       "    }\n",
       "\n",
       "    .dataframe tbody tr th {\n",
       "        vertical-align: top;\n",
       "    }\n",
       "\n",
       "    .dataframe thead th {\n",
       "        text-align: right;\n",
       "    }\n",
       "</style>\n",
       "<table border=\"1\" class=\"dataframe\">\n",
       "  <thead>\n",
       "    <tr style=\"text-align: right;\">\n",
       "      <th></th>\n",
       "      <th>Asset_ID</th>\n",
       "      <th>Count</th>\n",
       "      <th>Open</th>\n",
       "      <th>High</th>\n",
       "      <th>Low</th>\n",
       "      <th>Close</th>\n",
       "      <th>Volume</th>\n",
       "      <th>VWAP</th>\n",
       "      <th>Target</th>\n",
       "      <th>train_flg</th>\n",
       "      <th>...</th>\n",
       "      <th>Asset_Name</th>\n",
       "      <th>upper_shadow</th>\n",
       "      <th>lower_shadow</th>\n",
       "      <th>open2close</th>\n",
       "      <th>high2low</th>\n",
       "      <th>high2mean</th>\n",
       "      <th>low2mean</th>\n",
       "      <th>high2median</th>\n",
       "      <th>low2median</th>\n",
       "      <th>volume2count</th>\n",
       "    </tr>\n",
       "  </thead>\n",
       "  <tbody>\n",
       "    <tr>\n",
       "      <th>23486463</th>\n",
       "      <td>9</td>\n",
       "      <td>163.0</td>\n",
       "      <td>156.500000</td>\n",
       "      <td>156.625000</td>\n",
       "      <td>156.000000</td>\n",
       "      <td>156.125000</td>\n",
       "      <td>7.381963e+02</td>\n",
       "      <td>156.260253</td>\n",
       "      <td>-0.001154</td>\n",
       "      <td>0</td>\n",
       "      <td>...</td>\n",
       "      <td>Litecoin</td>\n",
       "      <td>0.125000</td>\n",
       "      <td>0.125000</td>\n",
       "      <td>0.997559</td>\n",
       "      <td>1.003906</td>\n",
       "      <td>1.001953</td>\n",
       "      <td>0.998535</td>\n",
       "      <td>1.001953</td>\n",
       "      <td>0.998535</td>\n",
       "      <td>4.501197</td>\n",
       "    </tr>\n",
       "    <tr>\n",
       "      <th>23486464</th>\n",
       "      <td>10</td>\n",
       "      <td>23.0</td>\n",
       "      <td>2420.000000</td>\n",
       "      <td>2420.000000</td>\n",
       "      <td>2412.000000</td>\n",
       "      <td>2414.000000</td>\n",
       "      <td>1.315794e+00</td>\n",
       "      <td>2417.326038</td>\n",
       "      <td>0.009834</td>\n",
       "      <td>0</td>\n",
       "      <td>...</td>\n",
       "      <td>Maker</td>\n",
       "      <td>0.000000</td>\n",
       "      <td>2.000000</td>\n",
       "      <td>0.997559</td>\n",
       "      <td>1.002930</td>\n",
       "      <td>1.001953</td>\n",
       "      <td>0.998535</td>\n",
       "      <td>1.001953</td>\n",
       "      <td>0.998535</td>\n",
       "      <td>0.054825</td>\n",
       "    </tr>\n",
       "    <tr>\n",
       "      <th>23486465</th>\n",
       "      <td>13</td>\n",
       "      <td>512.0</td>\n",
       "      <td>0.091003</td>\n",
       "      <td>0.091125</td>\n",
       "      <td>0.090820</td>\n",
       "      <td>0.090881</td>\n",
       "      <td>1.900696e+06</td>\n",
       "      <td>0.090943</td>\n",
       "      <td>0.004162</td>\n",
       "      <td>0</td>\n",
       "      <td>...</td>\n",
       "      <td>TRON</td>\n",
       "      <td>0.000122</td>\n",
       "      <td>0.000061</td>\n",
       "      <td>0.998535</td>\n",
       "      <td>1.002930</td>\n",
       "      <td>1.001953</td>\n",
       "      <td>0.998535</td>\n",
       "      <td>1.001953</td>\n",
       "      <td>0.998535</td>\n",
       "      <td>3705.059570</td>\n",
       "    </tr>\n",
       "    <tr>\n",
       "      <th>23486466</th>\n",
       "      <td>12</td>\n",
       "      <td>193.0</td>\n",
       "      <td>0.281006</td>\n",
       "      <td>0.281250</td>\n",
       "      <td>0.280273</td>\n",
       "      <td>0.280518</td>\n",
       "      <td>1.628699e+05</td>\n",
       "      <td>0.280655</td>\n",
       "      <td>0.000449</td>\n",
       "      <td>0</td>\n",
       "      <td>...</td>\n",
       "      <td>Stellar</td>\n",
       "      <td>0.000244</td>\n",
       "      <td>0.000244</td>\n",
       "      <td>0.998047</td>\n",
       "      <td>1.003906</td>\n",
       "      <td>1.001953</td>\n",
       "      <td>0.998047</td>\n",
       "      <td>1.001953</td>\n",
       "      <td>0.998047</td>\n",
       "      <td>839.535583</td>\n",
       "    </tr>\n",
       "    <tr>\n",
       "      <th>23486467</th>\n",
       "      <td>11</td>\n",
       "      <td>38.0</td>\n",
       "      <td>232.125000</td>\n",
       "      <td>232.250000</td>\n",
       "      <td>231.250000</td>\n",
       "      <td>231.625000</td>\n",
       "      <td>4.914804e+01</td>\n",
       "      <td>231.794078</td>\n",
       "      <td>0.002567</td>\n",
       "      <td>0</td>\n",
       "      <td>...</td>\n",
       "      <td>Monero</td>\n",
       "      <td>0.125000</td>\n",
       "      <td>0.375000</td>\n",
       "      <td>0.998047</td>\n",
       "      <td>1.003906</td>\n",
       "      <td>1.001953</td>\n",
       "      <td>0.997070</td>\n",
       "      <td>1.001953</td>\n",
       "      <td>0.997070</td>\n",
       "      <td>1.260206</td>\n",
       "    </tr>\n",
       "  </tbody>\n",
       "</table>\n",
       "<p>5 rows × 21 columns</p>\n",
       "</div>"
      ],
      "text/plain": [
       "          Asset_ID  Count         Open         High          Low        Close  \\\n",
       "23486463         9  163.0   156.500000   156.625000   156.000000   156.125000   \n",
       "23486464        10   23.0  2420.000000  2420.000000  2412.000000  2414.000000   \n",
       "23486465        13  512.0     0.091003     0.091125     0.090820     0.090881   \n",
       "23486466        12  193.0     0.281006     0.281250     0.280273     0.280518   \n",
       "23486467        11   38.0   232.125000   232.250000   231.250000   231.625000   \n",
       "\n",
       "                Volume         VWAP    Target  train_flg  ...  Asset_Name  \\\n",
       "23486463  7.381963e+02   156.260253 -0.001154          0  ...    Litecoin   \n",
       "23486464  1.315794e+00  2417.326038  0.009834          0  ...       Maker   \n",
       "23486465  1.900696e+06     0.090943  0.004162          0  ...        TRON   \n",
       "23486466  1.628699e+05     0.280655  0.000449          0  ...     Stellar   \n",
       "23486467  4.914804e+01   231.794078  0.002567          0  ...      Monero   \n",
       "\n",
       "         upper_shadow  lower_shadow  open2close  high2low  high2mean  \\\n",
       "23486463     0.125000      0.125000    0.997559  1.003906   1.001953   \n",
       "23486464     0.000000      2.000000    0.997559  1.002930   1.001953   \n",
       "23486465     0.000122      0.000061    0.998535  1.002930   1.001953   \n",
       "23486466     0.000244      0.000244    0.998047  1.003906   1.001953   \n",
       "23486467     0.125000      0.375000    0.998047  1.003906   1.001953   \n",
       "\n",
       "          low2mean  high2median  low2median  volume2count  \n",
       "23486463  0.998535     1.001953    0.998535      4.501197  \n",
       "23486464  0.998535     1.001953    0.998535      0.054825  \n",
       "23486465  0.998535     1.001953    0.998535   3705.059570  \n",
       "23486466  0.998047     1.001953    0.998047    839.535583  \n",
       "23486467  0.997070     1.001953    0.997070      1.260206  \n",
       "\n",
       "[5 rows x 21 columns]"
      ]
     },
     "execution_count": 14,
     "metadata": {},
     "output_type": "execute_result"
    }
   ],
   "source": [
    "%%time\n",
    "\n",
    "feature_df = get_features(train)\n",
    "\n",
    "print(feature_df.shape)\n",
    "feature_df.tail()"
   ]
  },
  {
   "cell_type": "code",
   "execution_count": 15,
   "id": "3f3e7a27",
   "metadata": {
    "execution": {
     "iopub.execute_input": "2023-10-31T13:59:45.185865Z",
     "iopub.status.busy": "2023-10-31T13:59:45.184914Z",
     "iopub.status.idle": "2023-10-31T13:59:45.193156Z",
     "shell.execute_reply": "2023-10-31T13:59:45.191900Z"
    },
    "papermill": {
     "duration": 0.026547,
     "end_time": "2023-10-31T13:59:45.195758",
     "exception": false,
     "start_time": "2023-10-31T13:59:45.169211",
     "status": "completed"
    },
    "tags": []
   },
   "outputs": [
    {
     "data": {
      "text/plain": [
       "Index(['Asset_ID', 'Count', 'Open', 'High', 'Low', 'Close', 'Volume', 'VWAP',\n",
       "       'Target', 'train_flg', 'Weight', 'Asset_Name', 'upper_shadow',\n",
       "       'lower_shadow', 'open2close', 'high2low', 'high2mean', 'low2mean',\n",
       "       'high2median', 'low2median', 'volume2count'],\n",
       "      dtype='object')"
      ]
     },
     "execution_count": 15,
     "metadata": {},
     "output_type": "execute_result"
    }
   ],
   "source": [
    "feature_df.columns"
   ]
  },
  {
   "cell_type": "markdown",
   "id": "89dd2d89",
   "metadata": {
    "papermill": {
     "duration": 0.014648,
     "end_time": "2023-10-31T13:59:45.310481",
     "exception": false,
     "start_time": "2023-10-31T13:59:45.295833",
     "status": "completed"
    },
    "tags": []
   },
   "source": [
    "## Light GBM"
   ]
  },
  {
   "cell_type": "code",
   "execution_count": 16,
   "id": "47179d3a",
   "metadata": {
    "execution": {
     "iopub.execute_input": "2023-10-31T13:59:45.343515Z",
     "iopub.status.busy": "2023-10-31T13:59:45.343025Z",
     "iopub.status.idle": "2023-10-31T13:59:45.350469Z",
     "shell.execute_reply": "2023-10-31T13:59:45.349052Z"
    },
    "papermill": {
     "duration": 0.027096,
     "end_time": "2023-10-31T13:59:45.353409",
     "exception": false,
     "start_time": "2023-10-31T13:59:45.326313",
     "status": "completed"
    },
    "tags": []
   },
   "outputs": [
    {
     "name": "stdout",
     "output_type": "stream",
     "text": [
      "10 features_selected_for_training: ['Asset_ID', 'Count', 'Open', 'High', 'Low', 'Close', 'Volume', 'VWAP', 'train_flg', 'Weight']\n"
     ]
    }
   ],
   "source": [
    "target = 'Target'\n",
    "\n",
    "# drops = ['timestamp', 'Asset_Name', 'Weight', 'train_flg', 'Open', 'High', 'Low', 'Close', 'Volume', 'VWAP']\n",
    "drops = ['Asset_Name']\n",
    "features_selected_for_training = [f for f in train.columns if f not in drops + [target]]\n",
    "\n",
    "categoricals = ['Asset_ID']\n",
    "\n",
    "print('{:,} features_selected_for_training: {}'.format(len(features_selected_for_training), features_selected_for_training))"
   ]
  },
  {
   "cell_type": "markdown",
   "id": "841197d0",
   "metadata": {
    "papermill": {
     "duration": 0.016665,
     "end_time": "2023-10-31T13:59:45.386461",
     "exception": false,
     "start_time": "2023-10-31T13:59:45.369796",
     "status": "completed"
    },
    "tags": []
   },
   "source": [
    "### LGBM Configurations"
   ]
  },
  {
   "cell_type": "code",
   "execution_count": 17,
   "id": "650ac232",
   "metadata": {
    "execution": {
     "iopub.execute_input": "2023-10-31T13:59:45.420127Z",
     "iopub.status.busy": "2023-10-31T13:59:45.419076Z",
     "iopub.status.idle": "2023-10-31T13:59:45.425583Z",
     "shell.execute_reply": "2023-10-31T13:59:45.424482Z"
    },
    "papermill": {
     "duration": 0.025774,
     "end_time": "2023-10-31T13:59:45.428784",
     "exception": false,
     "start_time": "2023-10-31T13:59:45.403010",
     "status": "completed"
    },
    "tags": []
   },
   "outputs": [],
   "source": [
    "params = {\n",
    "        'n_estimators': 10000,\n",
    "        'objective': 'regression',\n",
    "        'metric': 'rmse',\n",
    "        'boosting_type': 'gbdt',\n",
    "        'max_depth': -1,\n",
    "        'learning_rate': 0.01,\n",
    "        'subsample': 0.72,\n",
    "        'subsample_freq': 4,\n",
    "        'feature_fraction': 0.4,\n",
    "        'lambda_l1': 1,\n",
    "        'lambda_l2': 1,\n",
    "        'seed': 42,\n",
    "        }"
   ]
  },
  {
   "cell_type": "markdown",
   "id": "3adda715",
   "metadata": {
    "papermill": {
     "duration": 0.015203,
     "end_time": "2023-10-31T13:59:45.461073",
     "exception": false,
     "start_time": "2023-10-31T13:59:45.445870",
     "status": "completed"
    },
    "tags": []
   },
   "source": [
    "### Train Full Model (i.e. a single model file will be saved)"
   ]
  },
  {
   "cell_type": "code",
   "execution_count": 18,
   "id": "58c1ae40",
   "metadata": {
    "execution": {
     "iopub.execute_input": "2023-10-31T13:59:45.492673Z",
     "iopub.status.busy": "2023-10-31T13:59:45.491896Z",
     "iopub.status.idle": "2023-10-31T13:59:45.499868Z",
     "shell.execute_reply": "2023-10-31T13:59:45.498879Z"
    },
    "papermill": {
     "duration": 0.026716,
     "end_time": "2023-10-31T13:59:45.502398",
     "exception": false,
     "start_time": "2023-10-31T13:59:45.475682",
     "status": "completed"
    },
    "tags": []
   },
   "outputs": [],
   "source": [
    "def train_lgbm_model(feature_df, features_selected_for_training, target, categoricals, params):\n",
    "    \"\"\"\n",
    "    Train an LGBM model on the given feature DataFrame, save the model and return feature importances.\n",
    "    \n",
    "    Parameters\n",
    "    ----------\n",
    "    feature_df : pd.DataFrame\n",
    "        DataFrame containing the features_selected_for_training and target variable\n",
    "    features_selected_for_training : list of str\n",
    "        List of feature names used for training the model\n",
    "    target : str\n",
    "        Name of the target variable\n",
    "    categoricals : list of str\n",
    "        List of categorical feature names\n",
    "    params : dict\n",
    "        Dictionary of parameters for the LGBM model\n",
    "    output_dir : str\n",
    "        Directory to save the trained model\n",
    "    \n",
    "    Returns\n",
    "    -------\n",
    "    fi_df : pd.DataFrame\n",
    "        DataFrame containing the feature importances\n",
    "    \"\"\"\n",
    "    \n",
    "    # Instantiate the LGBM model\n",
    "    model = lgb.LGBMRegressor(**params)\n",
    "\n",
    "    # Fit the model on the training data and validate on the validation data\n",
    "    model.fit(\n",
    "        feature_df.query('train_flg == 1')[features_selected_for_training],\n",
    "        feature_df.query('train_flg == 1')[target].values, \n",
    "        eval_set=[(feature_df.query('train_flg == 0')[features_selected_for_training]\n",
    "                   , feature_df.query('train_flg == 0')[target].values)],\n",
    "        verbose=-1, \n",
    "        early_stopping_rounds=100,\n",
    "        categorical_feature=categoricals,\n",
    "    )\n",
    "    \n",
    "    return model"
   ]
  },
  {
   "cell_type": "code",
   "execution_count": 19,
   "id": "765fc0a8",
   "metadata": {
    "execution": {
     "iopub.execute_input": "2023-10-31T13:59:45.536459Z",
     "iopub.status.busy": "2023-10-31T13:59:45.535663Z",
     "iopub.status.idle": "2023-10-31T14:02:45.578492Z",
     "shell.execute_reply": "2023-10-31T14:02:45.577013Z"
    },
    "papermill": {
     "duration": 180.077873,
     "end_time": "2023-10-31T14:02:45.596697",
     "exception": false,
     "start_time": "2023-10-31T13:59:45.518824",
     "status": "completed"
    },
    "tags": []
   },
   "outputs": [
    {
     "name": "stdout",
     "output_type": "stream",
     "text": [
      "[LightGBM] [Warning] feature_fraction is set=0.4, colsample_bytree=1.0 will be ignored. Current value: feature_fraction=0.4\n",
      "[LightGBM] [Warning] lambda_l1 is set=1, reg_alpha=0.0 will be ignored. Current value: lambda_l1=1\n",
      "[LightGBM] [Warning] lambda_l2 is set=1, reg_lambda=0.0 will be ignored. Current value: lambda_l2=1\n",
      "LGBM model saved to output dir\n"
     ]
    }
   ],
   "source": [
    "model = train_lgbm_model(feature_df, features_selected_for_training, target, categoricals, params)\n",
    "\n",
    "# save model\n",
    "joblib.dump(model, os.path.join(CFG.OUTPUT_DIR, 'lgb_model_val.pkl'))\n",
    "\n",
    "print('LGBM model saved to output dir')\n",
    "\n",
    "# feature importance\n",
    "fi_df = pd.DataFrame()\n",
    "fi_df['features_selected_for_training'] = features_selected_for_training\n",
    "fi_df['importance'] = model.booster_.feature_importance(importance_type=\"gain\")"
   ]
  },
  {
   "cell_type": "code",
   "execution_count": 20,
   "id": "820bd2e6",
   "metadata": {
    "execution": {
     "iopub.execute_input": "2023-10-31T14:02:45.629887Z",
     "iopub.status.busy": "2023-10-31T14:02:45.628994Z",
     "iopub.status.idle": "2023-10-31T14:02:46.088613Z",
     "shell.execute_reply": "2023-10-31T14:02:46.087190Z"
    },
    "papermill": {
     "duration": 0.48026,
     "end_time": "2023-10-31T14:02:46.091742",
     "exception": false,
     "start_time": "2023-10-31T14:02:45.611482",
     "status": "completed"
    },
    "tags": []
   },
   "outputs": [
    {
     "data": {
      "text/plain": [
       "<Axes: xlabel='importance', ylabel='features_selected_for_training'>"
      ]
     },
     "execution_count": 20,
     "metadata": {},
     "output_type": "execute_result"
    },
    {
     "data": {
      "image/png": "[encoded data removed]",
      "text/plain": [
       "<Figure size 700x1500 with 1 Axes>"
      ]
     },
     "metadata": {},
     "output_type": "display_data"
    }
   ],
   "source": [
    "# plot feature importance\n",
    "fig, ax = plt.subplots(1, 1, figsize=(7, 15))\n",
    "sns.barplot(\n",
    "    x='importance'\n",
    "    , y='features_selected_for_training'\n",
    "    , data=fi_df.sort_values(by=['importance'], ascending=False)\n",
    "    , ax=ax\n",
    ")"
   ]
  },
  {
   "cell_type": "markdown",
   "id": "5647541c",
   "metadata": {
    "papermill": {
     "duration": 0.01586,
     "end_time": "2023-10-31T14:02:46.123489",
     "exception": false,
     "start_time": "2023-10-31T14:02:46.107629",
     "status": "completed"
    },
    "tags": []
   },
   "source": [
    "### Train individual model (i.e. for each asset a model file will be saved)"
   ]
  },
  {
   "cell_type": "code",
   "execution_count": 21,
   "id": "dc6454af",
   "metadata": {
    "execution": {
     "iopub.execute_input": "2023-10-31T14:02:46.158175Z",
     "iopub.status.busy": "2023-10-31T14:02:46.157777Z",
     "iopub.status.idle": "2023-10-31T14:05:12.016989Z",
     "shell.execute_reply": "2023-10-31T14:05:12.015506Z"
    },
    "papermill": {
     "duration": 145.881249,
     "end_time": "2023-10-31T14:05:12.020805",
     "exception": false,
     "start_time": "2023-10-31T14:02:46.139556",
     "status": "completed"
    },
    "tags": []
   },
   "outputs": [
    {
     "name": "stdout",
     "output_type": "stream",
     "text": [
      "lgb model for Bitcoin Cash saved!\n",
      "lgb model for Binance Coin saved!\n",
      "lgb model for Bitcoin saved!\n",
      "lgb model for EOS.IO saved!\n",
      "lgb model for Ethereum Classic saved!\n",
      "lgb model for Ethereum saved!\n",
      "lgb model for Litecoin saved!\n",
      "lgb model for Monero saved!\n",
      "lgb model for TRON saved!\n",
      "lgb model for Stellar saved!\n",
      "lgb model for Cardano saved!\n",
      "lgb model for IOTA saved!\n",
      "lgb model for Maker saved!\n",
      "lgb model for Dogecoin saved!\n"
     ]
    }
   ],
   "source": [
    "def train_lgbm_model_for_asset(asset, feature_df, features_selected_for_training, target, params, output_dir):\n",
    "    \"\"\"\n",
    "    Train an LGBM model on the given feature DataFrame for a specific asset, and save the model.\n",
    "    \n",
    "    Parameters\n",
    "    ----------\n",
    "    asset : int\n",
    "        Asset_ID for which the model is trained\n",
    "    feature_df : pd.DataFrame\n",
    "        DataFrame containing the features and target variable\n",
    "    features_selected_for_training : list of str\n",
    "        List of selected feature names used for training the model\n",
    "    target : str\n",
    "        Name of the target variable\n",
    "    params : dict\n",
    "        Dictionary of parameters for the LGBM model\n",
    "    output_dir : str\n",
    "        Directory to save the trained model\n",
    "    \"\"\"\n",
    "\n",
    "    # Instantiate the LGBM model\n",
    "    model = lgb.LGBMRegressor(**params)\n",
    "\n",
    "    # Train the model on the specific asset and validate\n",
    "    train_data = feature_df.query('train_flg == 1 and Asset_ID == @asset')\n",
    "    val_data = feature_df.query('train_flg == 0 and Asset_ID == @asset')\n",
    "    \n",
    "    model.fit(\n",
    "        train_data[features_selected_for_training],\n",
    "        train_data[target].values, \n",
    "        eval_set=[(val_data[features_selected_for_training], val_data[target].values)],\n",
    "        verbose=-1, \n",
    "        early_stopping_rounds=100,\n",
    "    )\n",
    "    \n",
    "    # Save the model\n",
    "    asset_name = train_data['Asset_Name'].values[0]\n",
    "    model_path = os.path.join(output_dir, f'lgb_model_{asset_name}_val.pkl')\n",
    "    joblib.dump(model, model_path)\n",
    "    print(f'lgb model for {asset_name} saved!')\n",
    "\n",
    "# Train LGBM models for each asset\n",
    "for asset in feature_df['Asset_ID'].unique():\n",
    "    train_lgbm_model_for_asset(asset, feature_df, features_selected_for_training, target, params, CFG.OUTPUT_DIR)"
   ]
  },
  {
   "cell_type": "markdown",
   "id": "210351f5",
   "metadata": {
    "papermill": {
     "duration": 0.01679,
     "end_time": "2023-10-31T14:05:12.056574",
     "exception": false,
     "start_time": "2023-10-31T14:05:12.039784",
     "status": "completed"
    },
    "tags": []
   },
   "source": [
    "### Evaluation score - weighted correlation"
   ]
  },
  {
   "cell_type": "code",
   "execution_count": 22,
   "id": "2ffef8dc",
   "metadata": {
    "execution": {
     "iopub.execute_input": "2023-10-31T14:05:12.094065Z",
     "iopub.status.busy": "2023-10-31T14:05:12.093634Z",
     "iopub.status.idle": "2023-10-31T14:05:12.101582Z",
     "shell.execute_reply": "2023-10-31T14:05:12.100594Z"
    },
    "papermill": {
     "duration": 0.028934,
     "end_time": "2023-10-31T14:05:12.103796",
     "exception": false,
     "start_time": "2023-10-31T14:05:12.074862",
     "status": "completed"
    },
    "tags": []
   },
   "outputs": [],
   "source": [
    "def weighted_mean(x, w):\n",
    "    \"\"\"Weighted Mean\"\"\"\n",
    "    return np.sum(x * w) / np.sum(w)\n",
    "\n",
    "def cov(prediction, target, w):\n",
    "    \"\"\"Weighted Covariance\"\"\"\n",
    "    return np.sum(w * (prediction - weighted_mean(prediction, w)) * (target - weighted_mean(target, w))) / np.sum(w)\n",
    "\n",
    "\"\"\" (prediction - weighted_mean(prediction, w)) * (target - weighted_mean(target, w))\n",
    "\n",
    "This calculate the differences between each data point and their respective weighted means. \n",
    "These differences are then element-wise multiplied by the weight array w. \"\"\"\n",
    "\n",
    "def corr(prediction, target, w):\n",
    "    \"\"\"Weighted Correlation\"\"\"\n",
    "    return cov(prediction, target, w) / np.sqrt(cov(prediction, prediction, w) * cov(target, target, w))"
   ]
  },
  {
   "cell_type": "markdown",
   "id": "d83feb13",
   "metadata": {
    "papermill": {
     "duration": 0.016685,
     "end_time": "2023-10-31T14:05:12.138078",
     "exception": false,
     "start_time": "2023-10-31T14:05:12.121393",
     "status": "completed"
    },
    "tags": []
   },
   "source": [
    "### Evaluating the full model"
   ]
  },
  {
   "cell_type": "code",
   "execution_count": 23,
   "id": "35718036",
   "metadata": {
    "execution": {
     "iopub.execute_input": "2023-10-31T14:05:12.176611Z",
     "iopub.status.busy": "2023-10-31T14:05:12.175407Z",
     "iopub.status.idle": "2023-10-31T14:05:29.313405Z",
     "shell.execute_reply": "2023-10-31T14:05:29.312487Z"
    },
    "papermill": {
     "duration": 17.160572,
     "end_time": "2023-10-31T14:05:29.316036",
     "exception": false,
     "start_time": "2023-10-31T14:05:12.155464",
     "status": "completed"
    },
    "tags": []
   },
   "outputs": [
    {
     "name": "stdout",
     "output_type": "stream",
     "text": [
      "Load the FULL MODEL *******************************************\n",
      "\n",
      "- Cardano: Validation Score (weighted correlation) = 0.0245\n",
      "\n",
      "- Bitcoin Cash: Validation Score (weighted correlation) = 0.0127\n",
      "\n",
      "- Binance Coin: Validation Score (weighted correlation) = 0.0240\n",
      "\n",
      "- Bitcoin: Validation Score (weighted correlation) = -0.0107\n",
      "\n",
      "- Dogecoin: Validation Score (weighted correlation) = 0.0147\n",
      "\n",
      "- EOS.IO: Validation Score (weighted correlation) = 0.0071\n",
      "\n",
      "- Ethereum Classic: Validation Score (weighted correlation) = 0.0124\n",
      "\n",
      "- Ethereum: Validation Score (weighted correlation) = 0.0148\n",
      "\n",
      "- Litecoin: Validation Score (weighted correlation) = -0.0064\n",
      "\n",
      "- TRON: Validation Score (weighted correlation) = -0.0026\n",
      "\n",
      "- Stellar: Validation Score (weighted correlation) = 0.0079\n",
      "\n",
      "- Monero: Validation Score (weighted correlation) = -0.0010\n",
      "\n",
      "- IOTA: Validation Score (weighted correlation) = 0.0055\n",
      "\n",
      "- Maker: Validation Score (weighted correlation) = 0.0012\n",
      "=> Overall Validation Score (weighted correlation) = 0.0118\n"
     ]
    }
   ],
   "source": [
    "# Compute the correlation\n",
    "print('Load the FULL MODEL *******************************************')\n",
    "\n",
    "model = joblib.load(os.path.join(CFG.OUTPUT_DIR, 'lgb_model_val.pkl'))\n",
    "\n",
    "val_df = train.query('train_flg == 0').copy()\n",
    "\n",
    "val_df['Prediction'] = model.predict(val_df[features_selected_for_training])\n",
    "\n",
    "for asset in val_df['Asset_ID'].unique():\n",
    "    tmp = val_df.query('Asset_ID == @asset')\n",
    "    coin = tmp['Asset_Name'].values[0]\n",
    "    \n",
    "    r = corr(tmp['Prediction'], tmp['Target'], tmp['Weight'])\n",
    "    \n",
    "    print('')\n",
    "    \n",
    "    print('- {}: Validation Score (weighted correlation) = {:.4f}'.format(coin, r))\n",
    "\n",
    "r = corr(val_df['Prediction'], val_df['Target'], val_df['Weight'])\n",
    "\n",
    "print('=> Overall Validation Score (weighted correlation) = {:.4f}'.format(r))"
   ]
  },
  {
   "cell_type": "markdown",
   "id": "d9035a57",
   "metadata": {
    "papermill": {
     "duration": 0.01787,
     "end_time": "2023-10-31T14:05:29.352860",
     "exception": false,
     "start_time": "2023-10-31T14:05:29.334990",
     "status": "completed"
    },
    "tags": []
   },
   "source": [
    "### Evaluating the individual models"
   ]
  },
  {
   "cell_type": "code",
   "execution_count": 24,
   "id": "cdcb4527",
   "metadata": {
    "execution": {
     "iopub.execute_input": "2023-10-31T14:05:29.393091Z",
     "iopub.status.busy": "2023-10-31T14:05:29.392661Z",
     "iopub.status.idle": "2023-10-31T14:05:29.708429Z",
     "shell.execute_reply": "2023-10-31T14:05:29.707006Z"
    },
    "papermill": {
     "duration": 0.340708,
     "end_time": "2023-10-31T14:05:29.711809",
     "exception": false,
     "start_time": "2023-10-31T14:05:29.371101",
     "status": "completed"
    },
    "tags": []
   },
   "outputs": [],
   "source": [
    "asset_name = feature_df.query('Asset_ID == @asset')['Asset_Name'].values[0]"
   ]
  },
  {
   "cell_type": "code",
   "execution_count": 25,
   "id": "52afaeea",
   "metadata": {
    "execution": {
     "iopub.execute_input": "2023-10-31T14:05:29.752227Z",
     "iopub.status.busy": "2023-10-31T14:05:29.751799Z",
     "iopub.status.idle": "2023-10-31T14:05:49.959137Z",
     "shell.execute_reply": "2023-10-31T14:05:49.957863Z"
    },
    "papermill": {
     "duration": 20.2307,
     "end_time": "2023-10-31T14:05:49.961698",
     "exception": false,
     "start_time": "2023-10-31T14:05:29.730998",
     "status": "completed"
    },
    "tags": []
   },
   "outputs": [
    {
     "name": "stdout",
     "output_type": "stream",
     "text": [
      "INDIVIDUAL MODEL *******************************************\n",
      "\n",
      "- Cardano: Validation Score (weighted correlation) = 0.0065\n",
      "\n",
      "- Bitcoin Cash: Validation Score (weighted correlation) = 0.0115\n",
      "\n",
      "- Binance Coin: Validation Score (weighted correlation) = 0.0085\n",
      "\n",
      "- Bitcoin: Validation Score (weighted correlation) = 0.0049\n",
      "\n",
      "- Dogecoin: Validation Score (weighted correlation) = 0.0015\n",
      "\n",
      "- EOS.IO: Validation Score (weighted correlation) = 0.0063\n",
      "\n",
      "- Ethereum Classic: Validation Score (weighted correlation) = 0.0042\n",
      "\n",
      "- Ethereum: Validation Score (weighted correlation) = 0.0121\n",
      "\n",
      "- Litecoin: Validation Score (weighted correlation) = 0.0074\n",
      "\n",
      "- TRON: Validation Score (weighted correlation) = -0.0028\n",
      "\n",
      "- Stellar: Validation Score (weighted correlation) = 0.0081\n",
      "\n",
      "- Monero: Validation Score (weighted correlation) = 0.0143\n",
      "\n",
      "- IOTA: Validation Score (weighted correlation) = 0.0138\n",
      "\n",
      "- Maker: Validation Score (weighted correlation) = 0.0086\n",
      "=> Overall Validation Score (weighted correlation) = 0.0051\n"
     ]
    }
   ],
   "source": [
    "print('INDIVIDUAL MODEL *******************************************')\n",
    "val_df['Prediction'] = 0\n",
    "for asset in val_df['Asset_ID'].unique():\n",
    "    asset_name = feature_df.query('Asset_ID == @asset')['Asset_Name'].values[0]\n",
    "    # load model\n",
    "    model = joblib.load(os.path.join(CFG.OUTPUT_DIR, 'lgb_model_{}_val.pkl'.format(asset_name)))\n",
    "    \n",
    "    # inference\n",
    "    val_df.loc[val_df['Asset_ID'] == asset, 'Prediction'] = model.predict(val_df.loc[val_df['Asset_ID'] == asset, features_selected_for_training])\n",
    "    # Explanation of => vmodel.predict(val_df.loc[val_df['Asset_ID'] == asset, features_selected_for_training])\n",
    "    # The loc function is a label-based indexer that allows you to select rows and columns by their labels. \n",
    "    # Essentially, this line selects all the rows where the 'Asset_ID' matches the 'asset' variable.\n",
    "    # And then => ..., features_selected_for_training: => This part specifies the columns to be selected from the filtered DataFrame. \n",
    "    # So 'features_selected_for_training\" is a list of column names that you want to keep in the output. So overall, The loc function will return only these columns for the selected rows.\n",
    "    \n",
    "    tmp = val_df.query('Asset_ID == @asset')\n",
    "    \n",
    "    asset_name = tmp['Asset_Name'].values[0]\n",
    "    \n",
    "    r = corr(tmp['Prediction'], tmp['Target'], tmp['Weight'])\n",
    "    \n",
    "    print('')\n",
    "    \n",
    "    print('- {}: Validation Score (weighted correlation) = {:.4f}'.format(asset_name, r))\n",
    "    \n",
    "r = corr(val_df['Prediction'], val_df['Target'], val_df['Weight'])\n",
    "print('=> Overall Validation Score (weighted correlation) = {:.4f}'.format(r))"
   ]
  },
  {
   "cell_type": "markdown",
   "id": "1237a5a9",
   "metadata": {
    "papermill": {
     "duration": 0.021034,
     "end_time": "2023-10-31T14:05:50.004134",
     "exception": false,
     "start_time": "2023-10-31T14:05:49.983100",
     "status": "completed"
    },
    "tags": []
   },
   "source": [
    "The full model seems to be performing better than the individual models."
   ]
  }
 ],
 "metadata": {
  "kernelspec": {
   "display_name": "Python 3",
   "language": "python",
   "name": "python3"
  },
  "language_info": {
   "codemirror_mode": {
    "name": "ipython",
    "version": 3
   },
   "file_extension": ".py",
   "mimetype": "text/x-python",
   "name": "python",
   "nbconvert_exporter": "python",
   "pygments_lexer": "ipython3",
   "version": "3.10.12"
  },
  "papermill": {
   "default_parameters": {},
   "duration": 546.208921,
   "end_time": "2023-10-31T14:05:51.353391",
   "environment_variables": {},
   "exception": null,
   "input_path": "__notebook__.ipynb",
   "output_path": "__notebook__.ipynb",
   "parameters": {},
   "start_time": "2023-10-31T13:56:45.144470",
   "version": "2.4.0"
  }
 },
 "nbformat": 4,
 "nbformat_minor": 5
}
