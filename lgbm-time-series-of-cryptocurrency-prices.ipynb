{
 "cells": [
  {
   "cell_type": "markdown",
   "id": "aed7323d",
   "metadata": {
    "papermill": {
     "duration": 0.008569,
     "end_time": "2023-10-31T13:44:31.760819",
     "exception": false,
     "start_time": "2023-10-31T13:44:31.752250",
     "status": "completed"
    },
    "tags": []
   },
   "source": [
    "# LGBM on time series data of cryptocurrency prices\n",
    "The dataset used in this notebook can be found here: https://www.kaggle.com/competitions/g-research-crypto-forecasting/data\n",
    "\n",
    "I will compare two LGBM baselines,\n",
    "\n",
    "* one that considers each asset independently (i.e. For each asset a Model File will be saved) and,\n",
    "* one multiple inputs that models all assets together (i.e. single Model File will be saved).\n",
    "\n",
    "And in the competition, the predictions will be evaluated on a weighted version of the Pearson correlation coefficient, with weights given by the Weight column in the Asset Details file."
   ]
  },
  {
   "cell_type": "code",
   "execution_count": 1,
   "id": "0da3fc5a",
   "metadata": {
    "execution": {
     "iopub.execute_input": "2023-10-31T13:44:31.779883Z",
     "iopub.status.busy": "2023-10-31T13:44:31.779439Z",
     "iopub.status.idle": "2023-10-31T13:44:35.583847Z",
     "shell.execute_reply": "2023-10-31T13:44:35.582692Z"
    },
    "papermill": {
     "duration": 3.818064,
     "end_time": "2023-10-31T13:44:35.587249",
     "exception": false,
     "start_time": "2023-10-31T13:44:31.769185",
     "status": "completed"
    },
    "tags": []
   },
   "outputs": [
    {
     "name": "stderr",
     "output_type": "stream",
     "text": [
      "/tmp/ipykernel_20/2106194749.py:17: MatplotlibDeprecationWarning: The seaborn styles shipped by Matplotlib are deprecated since 3.6, as they no longer correspond to the styles shipped by seaborn. However, they will remain available as 'seaborn-v0_8-<style>'. Alternatively, directly use the seaborn API instead.\n",
      "  style.use('seaborn-colorblind')\n"
     ]
    }
   ],
   "source": [
    "import os\n",
    "import numpy as np\n",
    "import pandas as pd\n",
    "\n",
    "from tqdm.auto import tqdm\n",
    "import joblib\n",
    "import time\n",
    "import datetime\n",
    "from scipy import stats\n",
    "import matplotlib.pyplot as plt\n",
    "import matplotlib.style as style\n",
    "from matplotlib_venn import venn2, venn3\n",
    "import seaborn as sns\n",
    "from matplotlib import pyplot\n",
    "from matplotlib.ticker import ScalarFormatter\n",
    "sns.set_context(\"talk\")\n",
    "style.use('seaborn-colorblind')\n",
    "from xgboost import XGBRegressor\n",
    "import lightgbm as lgb\n",
    "\n",
    "import warnings\n",
    "warnings.simplefilter('ignore')"
   ]
  },
  {
   "cell_type": "code",
   "execution_count": 2,
   "id": "0457bc66",
   "metadata": {
    "execution": {
     "iopub.execute_input": "2023-10-31T13:44:35.605898Z",
     "iopub.status.busy": "2023-10-31T13:44:35.605500Z",
     "iopub.status.idle": "2023-10-31T13:44:35.610196Z",
     "shell.execute_reply": "2023-10-31T13:44:35.609038Z"
    },
    "papermill": {
     "duration": 0.016431,
     "end_time": "2023-10-31T13:44:35.612259",
     "exception": false,
     "start_time": "2023-10-31T13:44:35.595828",
     "status": "completed"
    },
    "tags": []
   },
   "outputs": [],
   "source": [
    "ROOT_DIR = '/kaggle/input/g-research-crypto-forecasting'"
   ]
  },
  {
   "cell_type": "markdown",
   "id": "c5f13f36",
   "metadata": {
    "papermill": {
     "duration": 0.007908,
     "end_time": "2023-10-31T13:44:35.628337",
     "exception": false,
     "start_time": "2023-10-31T13:44:35.620429",
     "status": "completed"
    },
    "tags": []
   },
   "source": [
    "## Config"
   ]
  },
  {
   "cell_type": "code",
   "execution_count": 3,
   "id": "d4e232fc",
   "metadata": {
    "execution": {
     "iopub.execute_input": "2023-10-31T13:44:35.646804Z",
     "iopub.status.busy": "2023-10-31T13:44:35.645982Z",
     "iopub.status.idle": "2023-10-31T13:44:35.651014Z",
     "shell.execute_reply": "2023-10-31T13:44:35.650298Z"
    },
    "papermill": {
     "duration": 0.016693,
     "end_time": "2023-10-31T13:44:35.653163",
     "exception": false,
     "start_time": "2023-10-31T13:44:35.636470",
     "status": "completed"
    },
    "tags": []
   },
   "outputs": [],
   "source": [
    "class CFG:\n",
    "    INPUT_DIR = ROOT_DIR\n",
    "    OUTPUT_DIR = './'\n",
    "    SEED = 42"
   ]
  },
  {
   "cell_type": "markdown",
   "id": "78db300a",
   "metadata": {
    "papermill": {
     "duration": 0.007887,
     "end_time": "2023-10-31T13:44:35.669199",
     "exception": false,
     "start_time": "2023-10-31T13:44:35.661312",
     "status": "completed"
    },
    "tags": []
   },
   "source": [
    "## Reduce the memory footprint of the dataset\n",
    "Based on the data type and the range of values, the function below determines the smallest possible data type that can accommodate the data without losing information. For example, if the data type is an integer and the range of values fits within the bounds of an int8 data type, the function converts the column data type to int8."
   ]
  },
  {
   "cell_type": "code",
   "execution_count": 4,
   "id": "fcca981e",
   "metadata": {
    "execution": {
     "iopub.execute_input": "2023-10-31T13:44:35.688065Z",
     "iopub.status.busy": "2023-10-31T13:44:35.687264Z",
     "iopub.status.idle": "2023-10-31T13:44:35.697953Z",
     "shell.execute_reply": "2023-10-31T13:44:35.697016Z"
    },
    "papermill": {
     "duration": 0.022998,
     "end_time": "2023-10-31T13:44:35.700410",
     "exception": false,
     "start_time": "2023-10-31T13:44:35.677412",
     "status": "completed"
    },
    "tags": []
   },
   "outputs": [],
   "source": [
    "def get_optimal_numeric_type(c_min: float, c_max: float, col_type: str) -> str:\n",
    "    \"\"\"\n",
    "    Determines the optimal numeric data type for a given range of values.\n",
    "\n",
    "    Parameters\n",
    "    ----------\n",
    "    c_min : float\n",
    "        The minimum value of the data.\n",
    "    c_max : float\n",
    "        The maximum value of the data.\n",
    "    col_type : str\n",
    "        The current data type of the column ('int' or 'float').\n",
    "\n",
    "    Returns\n",
    "    -------\n",
    "    optimal_type : str\n",
    "        The optimal data type for the given range of values.\n",
    "    \"\"\"\n",
    "    type_info = np.iinfo if col_type == 'int' else np.finfo\n",
    "    for dtype in [np.int8, np.int16, np.int32, np.int64, np.float16, np.float32, np.float64]:\n",
    "        if col_type in str(dtype):\n",
    "            if c_min > type_info(dtype).min and c_max < type_info(dtype).max:\n",
    "                return dtype\n",
    "    return None\n",
    "\n",
    "\"\"\" Based on the data type and the range of values, the function determines the smallest possible data type that can accommodate the data without losing information. For example, if the data type is an integer and the range of values fits within the bounds of an int8 data type, the function converts the column data type to int8: \"\"\"\n",
    "\n",
    "def reduce_memory_usage(df: pd.DataFrame) -> pd.DataFrame:\n",
    "    \"\"\"\n",
    "    Reduces memory usage of a pandas DataFrame by converting its columns to the most memory-efficient data types\n",
    "    without losing information.\n",
    "\n",
    "    Parameters\n",
    "    ----------\n",
    "    df : pd.DataFrame\n",
    "        The input pandas DataFrame that needs memory optimization.\n",
    "\n",
    "    Returns\n",
    "    -------\n",
    "    df : pd.DataFrame\n",
    "        The optimized pandas DataFrame with reduced memory usage.\n",
    "    \"\"\"\n",
    "\n",
    "    # Iterate through each column in the DataFrame\n",
    "    df_copy = df.copy()\n",
    "    for col in df_copy.columns:\n",
    "        col_type = df_copy[col].dtype\n",
    "\n",
    "        # Check if the data type is not an object (i.e., numeric type)\n",
    "        if col_type != object:\n",
    "            c_min, c_max = df_copy[col].min(), df_copy[col].max()\n",
    "            col_type_str = 'int' if 'int' in str(col_type) else 'float'\n",
    "            optimal_type = get_optimal_numeric_type(c_min, c_max, col_type_str)\n",
    "            if optimal_type:\n",
    "                df_copy[col] = df_copy[col].astype(optimal_type)\n",
    "        # If the data type is an object, convert the column to a 'category' data type\n",
    "        else:\n",
    "            df_copy[col] = df_copy[col].astype('category')\n",
    "\n",
    "    # Return the optimized DataFrame with reduced memory usage\n",
    "    return df_copy"
   ]
  },
  {
   "cell_type": "markdown",
   "id": "533d164b",
   "metadata": {
    "papermill": {
     "duration": 0.008033,
     "end_time": "2023-10-31T13:44:35.717068",
     "exception": false,
     "start_time": "2023-10-31T13:44:35.709035",
     "status": "completed"
    },
    "tags": []
   },
   "source": [
    "## The dataset - train.csv\n",
    "* timestamp - A timestamp for the minute covered by the row.\n",
    "* Asset_ID - An ID code for the cryptoasset.\n",
    "* Count - The number of trades that took place this minute.\n",
    "* Open - The USD price at the beginning of the minute.\n",
    "* High - The highest USD price during the minute.\n",
    "* Low - The lowest USD price during the minute.\n",
    "* Close - The USD price at the end of the minute.\n",
    "* Volume - The number of cryptoasset units traded during the minute.\n",
    "* VWAP - The volume weighted average price for the minute.\n",
    "* Target - 15 minute residualized returns. "
   ]
  },
  {
   "cell_type": "code",
   "execution_count": 5,
   "id": "6452e620",
   "metadata": {
    "execution": {
     "iopub.execute_input": "2023-10-31T13:44:35.736602Z",
     "iopub.status.busy": "2023-10-31T13:44:35.736222Z",
     "iopub.status.idle": "2023-10-31T13:45:49.825474Z",
     "shell.execute_reply": "2023-10-31T13:45:49.824215Z"
    },
    "papermill": {
     "duration": 74.109231,
     "end_time": "2023-10-31T13:45:49.835731",
     "exception": false,
     "start_time": "2023-10-31T13:44:35.726500",
     "status": "completed"
    },
    "tags": []
   },
   "outputs": [
    {
     "name": "stdout",
     "output_type": "stream",
     "text": [
      "<class 'pandas.core.frame.DataFrame'>\n",
      "RangeIndex: 24236806 entries, 0 to 24236805\n",
      "Data columns (total 10 columns):\n",
      " #   Column     Dtype  \n",
      "---  ------     -----  \n",
      " 0   timestamp  int64  \n",
      " 1   Asset_ID   int64  \n",
      " 2   Count      float64\n",
      " 3   Open       float64\n",
      " 4   High       float64\n",
      " 5   Low        float64\n",
      " 6   Close      float64\n",
      " 7   Volume     float64\n",
      " 8   VWAP       float64\n",
      " 9   Target     float64\n",
      "dtypes: float64(8), int64(2)\n",
      "memory usage: 1.8 GB\n"
     ]
    }
   ],
   "source": [
    "before = pd.read_csv(os.path.join(CFG.INPUT_DIR, 'train.csv'))\n",
    "before.info()"
   ]
  },
  {
   "cell_type": "code",
   "execution_count": 6,
   "id": "c1ed9b20",
   "metadata": {
    "execution": {
     "iopub.execute_input": "2023-10-31T13:45:49.854383Z",
     "iopub.status.busy": "2023-10-31T13:45:49.853979Z",
     "iopub.status.idle": "2023-10-31T13:46:41.293588Z",
     "shell.execute_reply": "2023-10-31T13:46:41.291894Z"
    },
    "papermill": {
     "duration": 51.467667,
     "end_time": "2023-10-31T13:46:41.311756",
     "exception": false,
     "start_time": "2023-10-31T13:45:49.844089",
     "status": "completed"
    },
    "tags": []
   },
   "outputs": [
    {
     "name": "stdout",
     "output_type": "stream",
     "text": [
      "(24236806, 10)\n",
      "CPU times: user 37.1 s, sys: 9.45 s, total: 46.6 s\n",
      "Wall time: 51.4 s\n"
     ]
    },
    {
     "data": {
      "text/html": [
       "<div>\n",
       "<style scoped>\n",
       "    .dataframe tbody tr th:only-of-type {\n",
       "        vertical-align: middle;\n",
       "    }\n",
       "\n",
       "    .dataframe tbody tr th {\n",
       "        vertical-align: top;\n",
       "    }\n",
       "\n",
       "    .dataframe thead th {\n",
       "        text-align: right;\n",
       "    }\n",
       "</style>\n",
       "<table border=\"1\" class=\"dataframe\">\n",
       "  <thead>\n",
       "    <tr style=\"text-align: right;\">\n",
       "      <th></th>\n",
       "      <th>timestamp</th>\n",
       "      <th>Asset_ID</th>\n",
       "      <th>Count</th>\n",
       "      <th>Open</th>\n",
       "      <th>High</th>\n",
       "      <th>Low</th>\n",
       "      <th>Close</th>\n",
       "      <th>Volume</th>\n",
       "      <th>VWAP</th>\n",
       "      <th>Target</th>\n",
       "    </tr>\n",
       "  </thead>\n",
       "  <tbody>\n",
       "    <tr>\n",
       "      <th>0</th>\n",
       "      <td>1514764860</td>\n",
       "      <td>2</td>\n",
       "      <td>40.0</td>\n",
       "      <td>2376.000000</td>\n",
       "      <td>2400.000000</td>\n",
       "      <td>2358.00000</td>\n",
       "      <td>2374.00000</td>\n",
       "      <td>19.233006</td>\n",
       "      <td>2373.116392</td>\n",
       "      <td>-0.004219</td>\n",
       "    </tr>\n",
       "    <tr>\n",
       "      <th>1</th>\n",
       "      <td>1514764860</td>\n",
       "      <td>0</td>\n",
       "      <td>5.0</td>\n",
       "      <td>8.531250</td>\n",
       "      <td>8.531250</td>\n",
       "      <td>8.53125</td>\n",
       "      <td>8.53125</td>\n",
       "      <td>78.379997</td>\n",
       "      <td>8.530000</td>\n",
       "      <td>-0.014397</td>\n",
       "    </tr>\n",
       "    <tr>\n",
       "      <th>2</th>\n",
       "      <td>1514764860</td>\n",
       "      <td>1</td>\n",
       "      <td>229.0</td>\n",
       "      <td>13832.000000</td>\n",
       "      <td>14016.000000</td>\n",
       "      <td>13664.00000</td>\n",
       "      <td>13848.00000</td>\n",
       "      <td>31.550062</td>\n",
       "      <td>13827.062093</td>\n",
       "      <td>-0.014641</td>\n",
       "    </tr>\n",
       "    <tr>\n",
       "      <th>3</th>\n",
       "      <td>1514764860</td>\n",
       "      <td>5</td>\n",
       "      <td>32.0</td>\n",
       "      <td>7.660156</td>\n",
       "      <td>7.660156</td>\n",
       "      <td>7.65625</td>\n",
       "      <td>7.65625</td>\n",
       "      <td>6626.713379</td>\n",
       "      <td>7.657713</td>\n",
       "      <td>-0.013924</td>\n",
       "    </tr>\n",
       "    <tr>\n",
       "      <th>4</th>\n",
       "      <td>1514764860</td>\n",
       "      <td>7</td>\n",
       "      <td>5.0</td>\n",
       "      <td>25.921875</td>\n",
       "      <td>25.921875</td>\n",
       "      <td>25.87500</td>\n",
       "      <td>25.87500</td>\n",
       "      <td>121.087311</td>\n",
       "      <td>25.891363</td>\n",
       "      <td>-0.008263</td>\n",
       "    </tr>\n",
       "  </tbody>\n",
       "</table>\n",
       "</div>"
      ],
      "text/plain": [
       "    timestamp  Asset_ID  Count          Open          High          Low  \\\n",
       "0  1514764860         2   40.0   2376.000000   2400.000000   2358.00000   \n",
       "1  1514764860         0    5.0      8.531250      8.531250      8.53125   \n",
       "2  1514764860         1  229.0  13832.000000  14016.000000  13664.00000   \n",
       "3  1514764860         5   32.0      7.660156      7.660156      7.65625   \n",
       "4  1514764860         7    5.0     25.921875     25.921875     25.87500   \n",
       "\n",
       "         Close       Volume          VWAP    Target  \n",
       "0   2374.00000    19.233006   2373.116392 -0.004219  \n",
       "1      8.53125    78.379997      8.530000 -0.014397  \n",
       "2  13848.00000    31.550062  13827.062093 -0.014641  \n",
       "3      7.65625  6626.713379      7.657713 -0.013924  \n",
       "4     25.87500   121.087311     25.891363 -0.008263  "
      ]
     },
     "execution_count": 6,
     "metadata": {},
     "output_type": "execute_result"
    }
   ],
   "source": [
    "%%time\n",
    "\n",
    "train = pd.read_csv(os.path.join(CFG.INPUT_DIR, 'train.csv')).pipe(reduce_memory_usage)\n",
    "print(train.shape)\n",
    "train.head()"
   ]
  },
  {
   "cell_type": "code",
   "execution_count": 7,
   "id": "8ccdf310",
   "metadata": {
    "execution": {
     "iopub.execute_input": "2023-10-31T13:46:41.333066Z",
     "iopub.status.busy": "2023-10-31T13:46:41.332572Z",
     "iopub.status.idle": "2023-10-31T13:46:41.350792Z",
     "shell.execute_reply": "2023-10-31T13:46:41.349645Z"
    },
    "papermill": {
     "duration": 0.032034,
     "end_time": "2023-10-31T13:46:41.353182",
     "exception": false,
     "start_time": "2023-10-31T13:46:41.321148",
     "status": "completed"
    },
    "tags": []
   },
   "outputs": [
    {
     "data": {
      "text/html": [
       "<div>\n",
       "<style scoped>\n",
       "    .dataframe tbody tr th:only-of-type {\n",
       "        vertical-align: middle;\n",
       "    }\n",
       "\n",
       "    .dataframe tbody tr th {\n",
       "        vertical-align: top;\n",
       "    }\n",
       "\n",
       "    .dataframe thead th {\n",
       "        text-align: right;\n",
       "    }\n",
       "</style>\n",
       "<table border=\"1\" class=\"dataframe\">\n",
       "  <thead>\n",
       "    <tr style=\"text-align: right;\">\n",
       "      <th></th>\n",
       "      <th>timestamp</th>\n",
       "      <th>Asset_ID</th>\n",
       "      <th>Count</th>\n",
       "      <th>Open</th>\n",
       "      <th>High</th>\n",
       "      <th>Low</th>\n",
       "      <th>Close</th>\n",
       "      <th>Volume</th>\n",
       "      <th>VWAP</th>\n",
       "      <th>Target</th>\n",
       "    </tr>\n",
       "  </thead>\n",
       "  <tbody>\n",
       "    <tr>\n",
       "      <th>24236801</th>\n",
       "      <td>1632182400</td>\n",
       "      <td>9</td>\n",
       "      <td>775.0</td>\n",
       "      <td>157.125000</td>\n",
       "      <td>157.250000</td>\n",
       "      <td>156.750000</td>\n",
       "      <td>157.000000</td>\n",
       "      <td>4.663726e+03</td>\n",
       "      <td>156.994319</td>\n",
       "      <td>NaN</td>\n",
       "    </tr>\n",
       "    <tr>\n",
       "      <th>24236802</th>\n",
       "      <td>1632182400</td>\n",
       "      <td>10</td>\n",
       "      <td>34.0</td>\n",
       "      <td>2438.000000</td>\n",
       "      <td>2438.000000</td>\n",
       "      <td>2430.000000</td>\n",
       "      <td>2432.000000</td>\n",
       "      <td>3.975460e+00</td>\n",
       "      <td>2434.818747</td>\n",
       "      <td>NaN</td>\n",
       "    </tr>\n",
       "    <tr>\n",
       "      <th>24236803</th>\n",
       "      <td>1632182400</td>\n",
       "      <td>13</td>\n",
       "      <td>380.0</td>\n",
       "      <td>0.091370</td>\n",
       "      <td>0.091553</td>\n",
       "      <td>0.091248</td>\n",
       "      <td>0.091370</td>\n",
       "      <td>2.193732e+06</td>\n",
       "      <td>0.091388</td>\n",
       "      <td>NaN</td>\n",
       "    </tr>\n",
       "    <tr>\n",
       "      <th>24236804</th>\n",
       "      <td>1632182400</td>\n",
       "      <td>12</td>\n",
       "      <td>177.0</td>\n",
       "      <td>0.282227</td>\n",
       "      <td>0.282471</td>\n",
       "      <td>0.281738</td>\n",
       "      <td>0.281982</td>\n",
       "      <td>1.828508e+05</td>\n",
       "      <td>0.282134</td>\n",
       "      <td>NaN</td>\n",
       "    </tr>\n",
       "    <tr>\n",
       "      <th>24236805</th>\n",
       "      <td>1632182400</td>\n",
       "      <td>11</td>\n",
       "      <td>48.0</td>\n",
       "      <td>232.750000</td>\n",
       "      <td>232.750000</td>\n",
       "      <td>232.250000</td>\n",
       "      <td>232.250000</td>\n",
       "      <td>1.035123e+02</td>\n",
       "      <td>232.569697</td>\n",
       "      <td>NaN</td>\n",
       "    </tr>\n",
       "  </tbody>\n",
       "</table>\n",
       "</div>"
      ],
      "text/plain": [
       "           timestamp  Asset_ID  Count         Open         High          Low  \\\n",
       "24236801  1632182400         9  775.0   157.125000   157.250000   156.750000   \n",
       "24236802  1632182400        10   34.0  2438.000000  2438.000000  2430.000000   \n",
       "24236803  1632182400        13  380.0     0.091370     0.091553     0.091248   \n",
       "24236804  1632182400        12  177.0     0.282227     0.282471     0.281738   \n",
       "24236805  1632182400        11   48.0   232.750000   232.750000   232.250000   \n",
       "\n",
       "                Close        Volume         VWAP  Target  \n",
       "24236801   157.000000  4.663726e+03   156.994319     NaN  \n",
       "24236802  2432.000000  3.975460e+00  2434.818747     NaN  \n",
       "24236803     0.091370  2.193732e+06     0.091388     NaN  \n",
       "24236804     0.281982  1.828508e+05     0.282134     NaN  \n",
       "24236805   232.250000  1.035123e+02   232.569697     NaN  "
      ]
     },
     "execution_count": 7,
     "metadata": {},
     "output_type": "execute_result"
    }
   ],
   "source": [
    "train.tail()"
   ]
  },
  {
   "cell_type": "code",
   "execution_count": 8,
   "id": "47353309",
   "metadata": {
    "execution": {
     "iopub.execute_input": "2023-10-31T13:46:41.373866Z",
     "iopub.status.busy": "2023-10-31T13:46:41.373070Z",
     "iopub.status.idle": "2023-10-31T13:46:41.385465Z",
     "shell.execute_reply": "2023-10-31T13:46:41.384097Z"
    },
    "papermill": {
     "duration": 0.025512,
     "end_time": "2023-10-31T13:46:41.387975",
     "exception": false,
     "start_time": "2023-10-31T13:46:41.362463",
     "status": "completed"
    },
    "tags": []
   },
   "outputs": [
    {
     "name": "stdout",
     "output_type": "stream",
     "text": [
      "<class 'pandas.core.frame.DataFrame'>\n",
      "RangeIndex: 24236806 entries, 0 to 24236805\n",
      "Data columns (total 10 columns):\n",
      " #   Column     Dtype  \n",
      "---  ------     -----  \n",
      " 0   timestamp  int32  \n",
      " 1   Asset_ID   int8   \n",
      " 2   Count      float32\n",
      " 3   Open       float16\n",
      " 4   High       float16\n",
      " 5   Low        float16\n",
      " 6   Close      float16\n",
      " 7   Volume     float32\n",
      " 8   VWAP       float64\n",
      " 9   Target     float16\n",
      "dtypes: float16(5), float32(2), float64(1), int32(1), int8(1)\n",
      "memory usage: 716.5 MB\n"
     ]
    }
   ],
   "source": [
    "train.info() # A quite nice memory reduction"
   ]
  },
  {
   "cell_type": "code",
   "execution_count": 9,
   "id": "c4946c27",
   "metadata": {
    "execution": {
     "iopub.execute_input": "2023-10-31T13:46:41.408370Z",
     "iopub.status.busy": "2023-10-31T13:46:41.407484Z",
     "iopub.status.idle": "2023-10-31T13:46:41.964818Z",
     "shell.execute_reply": "2023-10-31T13:46:41.963566Z"
    },
    "papermill": {
     "duration": 0.570267,
     "end_time": "2023-10-31T13:46:41.967411",
     "exception": false,
     "start_time": "2023-10-31T13:46:41.397144",
     "status": "completed"
    },
    "tags": []
   },
   "outputs": [
    {
     "data": {
      "text/plain": [
       "timestamp         0\n",
       "Asset_ID          0\n",
       "Count             0\n",
       "Open              0\n",
       "High              0\n",
       "Low               0\n",
       "Close             0\n",
       "Volume            0\n",
       "VWAP              9\n",
       "Target       750338\n",
       "dtype: int64"
      ]
     },
     "execution_count": 9,
     "metadata": {},
     "output_type": "execute_result"
    }
   ],
   "source": [
    "# missing values?\n",
    "train.isna().sum()"
   ]
  },
  {
   "cell_type": "markdown",
   "id": "71449268",
   "metadata": {
    "papermill": {
     "duration": 0.008589,
     "end_time": "2023-10-31T13:46:41.984890",
     "exception": false,
     "start_time": "2023-10-31T13:46:41.976301",
     "status": "completed"
    },
    "tags": []
   },
   "source": [
    "## asset_details.csv\n",
    "Provides the real name and of the cryptoasset for each Asset_ID and the weight each cryptoasset receives in the metric."
   ]
  },
  {
   "cell_type": "code",
   "execution_count": 10,
   "id": "e5f5fdc7",
   "metadata": {
    "execution": {
     "iopub.execute_input": "2023-10-31T13:46:42.004604Z",
     "iopub.status.busy": "2023-10-31T13:46:42.004196Z",
     "iopub.status.idle": "2023-10-31T13:46:42.027279Z",
     "shell.execute_reply": "2023-10-31T13:46:42.026095Z"
    },
    "papermill": {
     "duration": 0.035882,
     "end_time": "2023-10-31T13:46:42.029662",
     "exception": false,
     "start_time": "2023-10-31T13:46:41.993780",
     "status": "completed"
    },
    "tags": []
   },
   "outputs": [
    {
     "name": "stdout",
     "output_type": "stream",
     "text": [
      "(14, 3)\n"
     ]
    },
    {
     "data": {
      "text/html": [
       "<div>\n",
       "<style scoped>\n",
       "    .dataframe tbody tr th:only-of-type {\n",
       "        vertical-align: middle;\n",
       "    }\n",
       "\n",
       "    .dataframe tbody tr th {\n",
       "        vertical-align: top;\n",
       "    }\n",
       "\n",
       "    .dataframe thead th {\n",
       "        text-align: right;\n",
       "    }\n",
       "</style>\n",
       "<table border=\"1\" class=\"dataframe\">\n",
       "  <thead>\n",
       "    <tr style=\"text-align: right;\">\n",
       "      <th></th>\n",
       "      <th>Asset_ID</th>\n",
       "      <th>Weight</th>\n",
       "      <th>Asset_Name</th>\n",
       "    </tr>\n",
       "  </thead>\n",
       "  <tbody>\n",
       "    <tr>\n",
       "      <th>0</th>\n",
       "      <td>2</td>\n",
       "      <td>2.397895</td>\n",
       "      <td>Bitcoin Cash</td>\n",
       "    </tr>\n",
       "    <tr>\n",
       "      <th>1</th>\n",
       "      <td>0</td>\n",
       "      <td>4.304065</td>\n",
       "      <td>Binance Coin</td>\n",
       "    </tr>\n",
       "    <tr>\n",
       "      <th>2</th>\n",
       "      <td>1</td>\n",
       "      <td>6.779922</td>\n",
       "      <td>Bitcoin</td>\n",
       "    </tr>\n",
       "    <tr>\n",
       "      <th>3</th>\n",
       "      <td>5</td>\n",
       "      <td>1.386294</td>\n",
       "      <td>EOS.IO</td>\n",
       "    </tr>\n",
       "    <tr>\n",
       "      <th>4</th>\n",
       "      <td>7</td>\n",
       "      <td>2.079442</td>\n",
       "      <td>Ethereum Classic</td>\n",
       "    </tr>\n",
       "    <tr>\n",
       "      <th>5</th>\n",
       "      <td>6</td>\n",
       "      <td>5.894403</td>\n",
       "      <td>Ethereum</td>\n",
       "    </tr>\n",
       "    <tr>\n",
       "      <th>6</th>\n",
       "      <td>9</td>\n",
       "      <td>2.397895</td>\n",
       "      <td>Litecoin</td>\n",
       "    </tr>\n",
       "    <tr>\n",
       "      <th>7</th>\n",
       "      <td>11</td>\n",
       "      <td>1.609438</td>\n",
       "      <td>Monero</td>\n",
       "    </tr>\n",
       "    <tr>\n",
       "      <th>8</th>\n",
       "      <td>13</td>\n",
       "      <td>1.791759</td>\n",
       "      <td>TRON</td>\n",
       "    </tr>\n",
       "    <tr>\n",
       "      <th>9</th>\n",
       "      <td>12</td>\n",
       "      <td>2.079442</td>\n",
       "      <td>Stellar</td>\n",
       "    </tr>\n",
       "    <tr>\n",
       "      <th>10</th>\n",
       "      <td>3</td>\n",
       "      <td>4.406719</td>\n",
       "      <td>Cardano</td>\n",
       "    </tr>\n",
       "    <tr>\n",
       "      <th>11</th>\n",
       "      <td>8</td>\n",
       "      <td>1.098612</td>\n",
       "      <td>IOTA</td>\n",
       "    </tr>\n",
       "    <tr>\n",
       "      <th>12</th>\n",
       "      <td>10</td>\n",
       "      <td>1.098612</td>\n",
       "      <td>Maker</td>\n",
       "    </tr>\n",
       "    <tr>\n",
       "      <th>13</th>\n",
       "      <td>4</td>\n",
       "      <td>3.555348</td>\n",
       "      <td>Dogecoin</td>\n",
       "    </tr>\n",
       "  </tbody>\n",
       "</table>\n",
       "</div>"
      ],
      "text/plain": [
       "    Asset_ID    Weight        Asset_Name\n",
       "0          2  2.397895      Bitcoin Cash\n",
       "1          0  4.304065      Binance Coin\n",
       "2          1  6.779922           Bitcoin\n",
       "3          5  1.386294            EOS.IO\n",
       "4          7  2.079442  Ethereum Classic\n",
       "5          6  5.894403          Ethereum\n",
       "6          9  2.397895          Litecoin\n",
       "7         11  1.609438            Monero\n",
       "8         13  1.791759              TRON\n",
       "9         12  2.079442           Stellar\n",
       "10         3  4.406719           Cardano\n",
       "11         8  1.098612              IOTA\n",
       "12        10  1.098612             Maker\n",
       "13         4  3.555348          Dogecoin"
      ]
     },
     "execution_count": 10,
     "metadata": {},
     "output_type": "execute_result"
    }
   ],
   "source": [
    "asset_details = pd.read_csv(os.path.join(CFG.INPUT_DIR, 'asset_details.csv'))\n",
    "asset_details['Asset_ID'] = asset_details['Asset_ID'].astype(np.int8)\n",
    "print(asset_details.shape)\n",
    "asset_details"
   ]
  },
  {
   "cell_type": "markdown",
   "id": "77fbeb18",
   "metadata": {
    "papermill": {
     "duration": 0.009283,
     "end_time": "2023-10-31T13:46:42.048534",
     "exception": false,
     "start_time": "2023-10-31T13:46:42.039251",
     "status": "completed"
    },
    "tags": []
   },
   "source": [
    "## Feature engineering"
   ]
  },
  {
   "cell_type": "code",
   "execution_count": 11,
   "id": "4cc064e4",
   "metadata": {
    "execution": {
     "iopub.execute_input": "2023-10-31T13:46:42.069612Z",
     "iopub.status.busy": "2023-10-31T13:46:42.069235Z",
     "iopub.status.idle": "2023-10-31T13:46:45.841992Z",
     "shell.execute_reply": "2023-10-31T13:46:45.840686Z"
    },
    "papermill": {
     "duration": 3.786885,
     "end_time": "2023-10-31T13:46:45.845215",
     "exception": false,
     "start_time": "2023-10-31T13:46:42.058330",
     "status": "completed"
    },
    "tags": []
   },
   "outputs": [
    {
     "name": "stdout",
     "output_type": "stream",
     "text": [
      ">> data goes from  2018-01-01T00:01:00 to  2021-09-21T00:00:00 shape= (24236806, 9)\n"
     ]
    }
   ],
   "source": [
    "# select train and validation period\n",
    "\n",
    "# auxiliary function, from datetime to timestamp\n",
    "totimestamp = lambda s: np.int32(time.mktime(datetime.datetime.strptime(s, \"%d/%m/%Y\").timetuple()))\n",
    "\n",
    "train_window = [totimestamp(\"01/01/2018\"), totimestamp(\"01/06/2021\")]\n",
    "\n",
    "valid_window = [totimestamp(\"02/06/2020\"), totimestamp(\"21/09/2021\")]\n",
    "\n",
    "train = train.set_index(\"timestamp\")\n",
    "\n",
    "beg_ = train.index[0].astype('datetime64[s]')\n",
    "end_ = train.index[-1].astype('datetime64[s]')\n",
    "\"\"\" taking the first and last index values and converting the retrieved index values into datetime objects with second precision. \"\"\"\n",
    "\n",
    "print('>> data goes from ', beg_, 'to ', end_, 'shape=', train.shape)\n",
    "\n",
    "# drop rows without target\n",
    "train.dropna(subset=['Target'], inplace=True)\n",
    "\n",
    "# add train flag\n",
    "train['train_flg'] = 1\n",
    "\n",
    "train.loc[valid_window[0]:valid_window[1], 'train_flg'] = 0"
   ]
  },
  {
   "cell_type": "markdown",
   "id": "124a8ec8",
   "metadata": {
    "papermill": {
     "duration": 0.009742,
     "end_time": "2023-10-31T13:46:45.864561",
     "exception": false,
     "start_time": "2023-10-31T13:46:45.854819",
     "status": "completed"
    },
    "tags": []
   },
   "source": [
    "### Merge the Asset Details .csv file to get the \"Weights\" for each of the Assets, which will be required for the evaluation parts"
   ]
  },
  {
   "cell_type": "code",
   "execution_count": 12,
   "id": "83466b80",
   "metadata": {
    "execution": {
     "iopub.execute_input": "2023-10-31T13:46:45.885776Z",
     "iopub.status.busy": "2023-10-31T13:46:45.884762Z",
     "iopub.status.idle": "2023-10-31T13:46:49.297907Z",
     "shell.execute_reply": "2023-10-31T13:46:49.296566Z"
    },
    "papermill": {
     "duration": 3.427352,
     "end_time": "2023-10-31T13:46:49.301368",
     "exception": false,
     "start_time": "2023-10-31T13:46:45.874016",
     "status": "completed"
    },
    "tags": []
   },
   "outputs": [],
   "source": [
    "def merge_asset_details(train, asset_details):\n",
    "    \"\"\"Add asset details to train df\n",
    "    \"\"\"\n",
    "    return train.merge(\n",
    "        asset_details\n",
    "        , how='left'\n",
    "        , on='Asset_ID'\n",
    "    )\n",
    "\n",
    "# merge asset_details\n",
    "train = merge_asset_details(train, asset_details)"
   ]
  },
  {
   "cell_type": "code",
   "execution_count": 13,
   "id": "3f2e216b",
   "metadata": {
    "execution": {
     "iopub.execute_input": "2023-10-31T13:46:49.324328Z",
     "iopub.status.busy": "2023-10-31T13:46:49.323892Z",
     "iopub.status.idle": "2023-10-31T13:46:49.333315Z",
     "shell.execute_reply": "2023-10-31T13:46:49.332024Z"
    },
    "papermill": {
     "duration": 0.024293,
     "end_time": "2023-10-31T13:46:49.335834",
     "exception": false,
     "start_time": "2023-10-31T13:46:49.311541",
     "status": "completed"
    },
    "tags": []
   },
   "outputs": [],
   "source": [
    "def get_features(df: pd.DataFrame) -> pd.DataFrame:\n",
    "    \"\"\"\n",
    "    Extract additional features from the given DataFrame for financial analysis.\n",
    "    \n",
    "    Parameters\n",
    "    ----------\n",
    "    df : pd.DataFrame\n",
    "        A pandas DataFrame containing the stock data with columns:\n",
    "        'Open', 'High', 'Low', 'Close', 'Volume', and 'Count'.\n",
    "    \n",
    "    Returns\n",
    "    -------\n",
    "    df_copy : pd.DataFrame\n",
    "        A new DataFrame with the extracted features as additional columns.\n",
    "    \"\"\"\n",
    "    # Create a copy of the input DataFrame to avoid modifying the original data\n",
    "    df_copy = df.copy()\n",
    "\n",
    "    # Calculate the upper and lower shadows for the candlestick chart\n",
    "    df_copy['upper_shadow'] = df_copy['High'] - np.maximum(df_copy['Close'], df_copy['Open'])\n",
    "    df_copy['lower_shadow'] = np.minimum(df_copy['Close'], df_copy['Open']) - df_copy['Low']\n",
    "\n",
    "    # Calculate the ratio of closing price to opening price\n",
    "    df_copy['open2close'] = df_copy['Close'] / df_copy['Open']\n",
    "\n",
    "    # Calculate the ratio of the highest price to the lowest price\n",
    "    df_copy['high2low'] = df_copy['High'] / df_copy['Low']\n",
    "\n",
    "    # Calculate the mean and median prices for each row\n",
    "    mean_price = df_copy[['Open', 'High', 'Low', 'Close']].mean(axis=1)\n",
    "    median_price = df_copy[['Open', 'High', 'Low', 'Close']].median(axis=1)\n",
    "\n",
    "    # Calculate the ratios of high and low prices to the mean and median prices\n",
    "    df_copy['high2mean'] = df_copy['High'] / mean_price\n",
    "    df_copy['low2mean'] = df_copy['Low'] / mean_price\n",
    "    df_copy['high2median'] = df_copy['High'] / median_price\n",
    "    df_copy['low2median'] = df_copy['Low'] / median_price\n",
    "\n",
    "    # Calculate the ratio of volume to the count, adding 1 to avoid division by zero\n",
    "    df_copy['volume2count'] = df_copy['Volume'] / (df_copy['Count'] + 1)\n",
    "\n",
    "    return df_copy"
   ]
  },
  {
   "cell_type": "code",
   "execution_count": 14,
   "id": "e5d60ba4",
   "metadata": {
    "execution": {
     "iopub.execute_input": "2023-10-31T13:46:49.358126Z",
     "iopub.status.busy": "2023-10-31T13:46:49.357725Z",
     "iopub.status.idle": "2023-10-31T13:47:12.696860Z",
     "shell.execute_reply": "2023-10-31T13:47:12.695767Z"
    },
    "papermill": {
     "duration": 23.354012,
     "end_time": "2023-10-31T13:47:12.699341",
     "exception": false,
     "start_time": "2023-10-31T13:46:49.345329",
     "status": "completed"
    },
    "tags": []
   },
   "outputs": [
    {
     "name": "stdout",
     "output_type": "stream",
     "text": [
      "(23486468, 21)\n",
      "CPU times: user 20.4 s, sys: 2.94 s, total: 23.3 s\n",
      "Wall time: 23.3 s\n"
     ]
    },
    {
     "data": {
      "text/html": [
       "<div>\n",
       "<style scoped>\n",
       "    .dataframe tbody tr th:only-of-type {\n",
       "        vertical-align: middle;\n",
       "    }\n",
       "\n",
       "    .dataframe tbody tr th {\n",
       "        vertical-align: top;\n",
       "    }\n",
       "\n",
       "    .dataframe thead th {\n",
       "        text-align: right;\n",
       "    }\n",
       "</style>\n",
       "<table border=\"1\" class=\"dataframe\">\n",
       "  <thead>\n",
       "    <tr style=\"text-align: right;\">\n",
       "      <th></th>\n",
       "      <th>Asset_ID</th>\n",
       "      <th>Count</th>\n",
       "      <th>Open</th>\n",
       "      <th>High</th>\n",
       "      <th>Low</th>\n",
       "      <th>Close</th>\n",
       "      <th>Volume</th>\n",
       "      <th>VWAP</th>\n",
       "      <th>Target</th>\n",
       "      <th>train_flg</th>\n",
       "      <th>...</th>\n",
       "      <th>Asset_Name</th>\n",
       "      <th>upper_shadow</th>\n",
       "      <th>lower_shadow</th>\n",
       "      <th>open2close</th>\n",
       "      <th>high2low</th>\n",
       "      <th>high2mean</th>\n",
       "      <th>low2mean</th>\n",
       "      <th>high2median</th>\n",
       "      <th>low2median</th>\n",
       "      <th>volume2count</th>\n",
       "    </tr>\n",
       "  </thead>\n",
       "  <tbody>\n",
       "    <tr>\n",
       "      <th>23486463</th>\n",
       "      <td>9</td>\n",
       "      <td>163.0</td>\n",
       "      <td>156.500000</td>\n",
       "      <td>156.625000</td>\n",
       "      <td>156.000000</td>\n",
       "      <td>156.125000</td>\n",
       "      <td>7.381963e+02</td>\n",
       "      <td>156.260253</td>\n",
       "      <td>-0.001154</td>\n",
       "      <td>0</td>\n",
       "      <td>...</td>\n",
       "      <td>Litecoin</td>\n",
       "      <td>0.125000</td>\n",
       "      <td>0.125000</td>\n",
       "      <td>0.997559</td>\n",
       "      <td>1.003906</td>\n",
       "      <td>1.001953</td>\n",
       "      <td>0.998535</td>\n",
       "      <td>1.001953</td>\n",
       "      <td>0.998535</td>\n",
       "      <td>4.501197</td>\n",
       "    </tr>\n",
       "    <tr>\n",
       "      <th>23486464</th>\n",
       "      <td>10</td>\n",
       "      <td>23.0</td>\n",
       "      <td>2420.000000</td>\n",
       "      <td>2420.000000</td>\n",
       "      <td>2412.000000</td>\n",
       "      <td>2414.000000</td>\n",
       "      <td>1.315794e+00</td>\n",
       "      <td>2417.326038</td>\n",
       "      <td>0.009834</td>\n",
       "      <td>0</td>\n",
       "      <td>...</td>\n",
       "      <td>Maker</td>\n",
       "      <td>0.000000</td>\n",
       "      <td>2.000000</td>\n",
       "      <td>0.997559</td>\n",
       "      <td>1.002930</td>\n",
       "      <td>1.001953</td>\n",
       "      <td>0.998535</td>\n",
       "      <td>1.001953</td>\n",
       "      <td>0.998535</td>\n",
       "      <td>0.054825</td>\n",
       "    </tr>\n",
       "    <tr>\n",
       "      <th>23486465</th>\n",
       "      <td>13</td>\n",
       "      <td>512.0</td>\n",
       "      <td>0.091003</td>\n",
       "      <td>0.091125</td>\n",
       "      <td>0.090820</td>\n",
       "      <td>0.090881</td>\n",
       "      <td>1.900696e+06</td>\n",
       "      <td>0.090943</td>\n",
       "      <td>0.004162</td>\n",
       "      <td>0</td>\n",
       "      <td>...</td>\n",
       "      <td>TRON</td>\n",
       "      <td>0.000122</td>\n",
       "      <td>0.000061</td>\n",
       "      <td>0.998535</td>\n",
       "      <td>1.002930</td>\n",
       "      <td>1.001953</td>\n",
       "      <td>0.998535</td>\n",
       "      <td>1.001953</td>\n",
       "      <td>0.998535</td>\n",
       "      <td>3705.059570</td>\n",
       "    </tr>\n",
       "    <tr>\n",
       "      <th>23486466</th>\n",
       "      <td>12</td>\n",
       "      <td>193.0</td>\n",
       "      <td>0.281006</td>\n",
       "      <td>0.281250</td>\n",
       "      <td>0.280273</td>\n",
       "      <td>0.280518</td>\n",
       "      <td>1.628699e+05</td>\n",
       "      <td>0.280655</td>\n",
       "      <td>0.000449</td>\n",
       "      <td>0</td>\n",
       "      <td>...</td>\n",
       "      <td>Stellar</td>\n",
       "      <td>0.000244</td>\n",
       "      <td>0.000244</td>\n",
       "      <td>0.998047</td>\n",
       "      <td>1.003906</td>\n",
       "      <td>1.001953</td>\n",
       "      <td>0.998047</td>\n",
       "      <td>1.001953</td>\n",
       "      <td>0.998047</td>\n",
       "      <td>839.535583</td>\n",
       "    </tr>\n",
       "    <tr>\n",
       "      <th>23486467</th>\n",
       "      <td>11</td>\n",
       "      <td>38.0</td>\n",
       "      <td>232.125000</td>\n",
       "      <td>232.250000</td>\n",
       "      <td>231.250000</td>\n",
       "      <td>231.625000</td>\n",
       "      <td>4.914804e+01</td>\n",
       "      <td>231.794078</td>\n",
       "      <td>0.002567</td>\n",
       "      <td>0</td>\n",
       "      <td>...</td>\n",
       "      <td>Monero</td>\n",
       "      <td>0.125000</td>\n",
       "      <td>0.375000</td>\n",
       "      <td>0.998047</td>\n",
       "      <td>1.003906</td>\n",
       "      <td>1.001953</td>\n",
       "      <td>0.997070</td>\n",
       "      <td>1.001953</td>\n",
       "      <td>0.997070</td>\n",
       "      <td>1.260206</td>\n",
       "    </tr>\n",
       "  </tbody>\n",
       "</table>\n",
       "<p>5 rows × 21 columns</p>\n",
       "</div>"
      ],
      "text/plain": [
       "          Asset_ID  Count         Open         High          Low        Close  \\\n",
       "23486463         9  163.0   156.500000   156.625000   156.000000   156.125000   \n",
       "23486464        10   23.0  2420.000000  2420.000000  2412.000000  2414.000000   \n",
       "23486465        13  512.0     0.091003     0.091125     0.090820     0.090881   \n",
       "23486466        12  193.0     0.281006     0.281250     0.280273     0.280518   \n",
       "23486467        11   38.0   232.125000   232.250000   231.250000   231.625000   \n",
       "\n",
       "                Volume         VWAP    Target  train_flg  ...  Asset_Name  \\\n",
       "23486463  7.381963e+02   156.260253 -0.001154          0  ...    Litecoin   \n",
       "23486464  1.315794e+00  2417.326038  0.009834          0  ...       Maker   \n",
       "23486465  1.900696e+06     0.090943  0.004162          0  ...        TRON   \n",
       "23486466  1.628699e+05     0.280655  0.000449          0  ...     Stellar   \n",
       "23486467  4.914804e+01   231.794078  0.002567          0  ...      Monero   \n",
       "\n",
       "         upper_shadow  lower_shadow  open2close  high2low  high2mean  \\\n",
       "23486463     0.125000      0.125000    0.997559  1.003906   1.001953   \n",
       "23486464     0.000000      2.000000    0.997559  1.002930   1.001953   \n",
       "23486465     0.000122      0.000061    0.998535  1.002930   1.001953   \n",
       "23486466     0.000244      0.000244    0.998047  1.003906   1.001953   \n",
       "23486467     0.125000      0.375000    0.998047  1.003906   1.001953   \n",
       "\n",
       "          low2mean  high2median  low2median  volume2count  \n",
       "23486463  0.998535     1.001953    0.998535      4.501197  \n",
       "23486464  0.998535     1.001953    0.998535      0.054825  \n",
       "23486465  0.998535     1.001953    0.998535   3705.059570  \n",
       "23486466  0.998047     1.001953    0.998047    839.535583  \n",
       "23486467  0.997070     1.001953    0.997070      1.260206  \n",
       "\n",
       "[5 rows x 21 columns]"
      ]
     },
     "execution_count": 14,
     "metadata": {},
     "output_type": "execute_result"
    }
   ],
   "source": [
    "%%time\n",
    "\n",
    "feature_df = get_features(train)\n",
    "\n",
    "print(feature_df.shape)\n",
    "feature_df.tail()"
   ]
  },
  {
   "cell_type": "code",
   "execution_count": 15,
   "id": "06fa0b26",
   "metadata": {
    "execution": {
     "iopub.execute_input": "2023-10-31T13:47:12.720954Z",
     "iopub.status.busy": "2023-10-31T13:47:12.720547Z",
     "iopub.status.idle": "2023-10-31T13:47:12.727665Z",
     "shell.execute_reply": "2023-10-31T13:47:12.726636Z"
    },
    "papermill": {
     "duration": 0.020316,
     "end_time": "2023-10-31T13:47:12.729807",
     "exception": false,
     "start_time": "2023-10-31T13:47:12.709491",
     "status": "completed"
    },
    "tags": []
   },
   "outputs": [
    {
     "data": {
      "text/plain": [
       "Index(['Asset_ID', 'Count', 'Open', 'High', 'Low', 'Close', 'Volume', 'VWAP',\n",
       "       'Target', 'train_flg', 'Weight', 'Asset_Name', 'upper_shadow',\n",
       "       'lower_shadow', 'open2close', 'high2low', 'high2mean', 'low2mean',\n",
       "       'high2median', 'low2median', 'volume2count'],\n",
       "      dtype='object')"
      ]
     },
     "execution_count": 15,
     "metadata": {},
     "output_type": "execute_result"
    }
   ],
   "source": [
    "feature_df.columns"
   ]
  },
  {
   "cell_type": "markdown",
   "id": "3b2b38ff",
   "metadata": {
    "papermill": {
     "duration": 0.009817,
     "end_time": "2023-10-31T13:47:12.864190",
     "exception": false,
     "start_time": "2023-10-31T13:47:12.854373",
     "status": "completed"
    },
    "tags": []
   },
   "source": [
    "## Light GBM"
   ]
  },
  {
   "cell_type": "code",
   "execution_count": 16,
   "id": "ca79a15f",
   "metadata": {
    "execution": {
     "iopub.execute_input": "2023-10-31T13:47:12.886516Z",
     "iopub.status.busy": "2023-10-31T13:47:12.886077Z",
     "iopub.status.idle": "2023-10-31T13:47:12.892504Z",
     "shell.execute_reply": "2023-10-31T13:47:12.891487Z"
    },
    "papermill": {
     "duration": 0.020315,
     "end_time": "2023-10-31T13:47:12.894829",
     "exception": false,
     "start_time": "2023-10-31T13:47:12.874514",
     "status": "completed"
    },
    "tags": []
   },
   "outputs": [
    {
     "name": "stdout",
     "output_type": "stream",
     "text": [
      "2 features_selected_for_training: ['Asset_ID', 'Count']\n"
     ]
    }
   ],
   "source": [
    "target = 'Target'\n",
    "\n",
    "drops = ['timestamp', 'Asset_Name', 'Weight', 'train_flg', 'Open', 'High', 'Low', 'Close', 'Volume', 'VWAP']\n",
    "\n",
    "features_selected_for_training = [f for f in train.columns if f not in drops + [target]]\n",
    "\n",
    "categoricals = ['Asset_ID']\n",
    "\n",
    "print('{:,} features_selected_for_training: {}'.format(len(features_selected_for_training), features_selected_for_training))"
   ]
  },
  {
   "cell_type": "markdown",
   "id": "9d6aaa8c",
   "metadata": {
    "papermill": {
     "duration": 0.010211,
     "end_time": "2023-10-31T13:47:12.915475",
     "exception": false,
     "start_time": "2023-10-31T13:47:12.905264",
     "status": "completed"
    },
    "tags": []
   },
   "source": [
    "### LGBM Configurations"
   ]
  },
  {
   "cell_type": "code",
   "execution_count": 17,
   "id": "fdb2a55b",
   "metadata": {
    "execution": {
     "iopub.execute_input": "2023-10-31T13:47:12.938165Z",
     "iopub.status.busy": "2023-10-31T13:47:12.937418Z",
     "iopub.status.idle": "2023-10-31T13:47:12.942695Z",
     "shell.execute_reply": "2023-10-31T13:47:12.941819Z"
    },
    "papermill": {
     "duration": 0.019059,
     "end_time": "2023-10-31T13:47:12.944796",
     "exception": false,
     "start_time": "2023-10-31T13:47:12.925737",
     "status": "completed"
    },
    "tags": []
   },
   "outputs": [],
   "source": [
    "params = {\n",
    "        'n_estimators': 10000,\n",
    "        'objective': 'regression',\n",
    "        'metric': 'rmse',\n",
    "        'boosting_type': 'gbdt',\n",
    "        'max_depth': -1,\n",
    "        'learning_rate': 0.01,\n",
    "        'subsample': 0.72,\n",
    "        'subsample_freq': 4,\n",
    "        'feature_fraction': 0.4,\n",
    "        'lambda_l1': 1,\n",
    "        'lambda_l2': 1,\n",
    "        'seed': 42,\n",
    "        }"
   ]
  },
  {
   "cell_type": "markdown",
   "id": "1f80a6eb",
   "metadata": {
    "papermill": {
     "duration": 0.009902,
     "end_time": "2023-10-31T13:47:12.965071",
     "exception": false,
     "start_time": "2023-10-31T13:47:12.955169",
     "status": "completed"
    },
    "tags": []
   },
   "source": [
    "### Train Full Model (i.e. a single model file will be saved)"
   ]
  },
  {
   "cell_type": "code",
   "execution_count": 18,
   "id": "c30d52c0",
   "metadata": {
    "execution": {
     "iopub.execute_input": "2023-10-31T13:47:12.987711Z",
     "iopub.status.busy": "2023-10-31T13:47:12.986967Z",
     "iopub.status.idle": "2023-10-31T13:47:12.994127Z",
     "shell.execute_reply": "2023-10-31T13:47:12.993233Z"
    },
    "papermill": {
     "duration": 0.021128,
     "end_time": "2023-10-31T13:47:12.996441",
     "exception": false,
     "start_time": "2023-10-31T13:47:12.975313",
     "status": "completed"
    },
    "tags": []
   },
   "outputs": [],
   "source": [
    "def train_lgbm_model(feature_df, features_selected_for_training, target, categoricals, params):\n",
    "    \"\"\"\n",
    "    Train an LGBM model on the given feature DataFrame, save the model and return feature importances.\n",
    "    \n",
    "    Parameters\n",
    "    ----------\n",
    "    feature_df : pd.DataFrame\n",
    "        DataFrame containing the features_selected_for_training and target variable\n",
    "    features_selected_for_training : list of str\n",
    "        List of feature names used for training the model\n",
    "    target : str\n",
    "        Name of the target variable\n",
    "    categoricals : list of str\n",
    "        List of categorical feature names\n",
    "    params : dict\n",
    "        Dictionary of parameters for the LGBM model\n",
    "    output_dir : str\n",
    "        Directory to save the trained model\n",
    "    \n",
    "    Returns\n",
    "    -------\n",
    "    fi_df : pd.DataFrame\n",
    "        DataFrame containing the feature importances\n",
    "    \"\"\"\n",
    "    \n",
    "    # Instantiate the LGBM model\n",
    "    model = lgb.LGBMRegressor(**params)\n",
    "\n",
    "    # Fit the model on the training data and validate on the validation data\n",
    "    model.fit(\n",
    "        feature_df.query('train_flg == 1')[features_selected_for_training],\n",
    "        feature_df.query('train_flg == 1')[target].values, \n",
    "        eval_set=[(feature_df.query('train_flg == 0')[features_selected_for_training]\n",
    "                   , feature_df.query('train_flg == 0')[target].values)],\n",
    "        verbose=-1, \n",
    "        early_stopping_rounds=100,\n",
    "        categorical_feature=categoricals,\n",
    "    )\n",
    "    \n",
    "    return model"
   ]
  },
  {
   "cell_type": "code",
   "execution_count": 19,
   "id": "ab4597af",
   "metadata": {
    "execution": {
     "iopub.execute_input": "2023-10-31T13:47:13.019179Z",
     "iopub.status.busy": "2023-10-31T13:47:13.018530Z",
     "iopub.status.idle": "2023-10-31T13:49:12.678916Z",
     "shell.execute_reply": "2023-10-31T13:49:12.677745Z"
    },
    "papermill": {
     "duration": 119.685367,
     "end_time": "2023-10-31T13:49:12.692020",
     "exception": false,
     "start_time": "2023-10-31T13:47:13.006653",
     "status": "completed"
    },
    "tags": []
   },
   "outputs": [
    {
     "name": "stdout",
     "output_type": "stream",
     "text": [
      "[LightGBM] [Warning] feature_fraction is set=0.4, colsample_bytree=1.0 will be ignored. Current value: feature_fraction=0.4\n",
      "[LightGBM] [Warning] lambda_l1 is set=1, reg_alpha=0.0 will be ignored. Current value: lambda_l1=1\n",
      "[LightGBM] [Warning] lambda_l2 is set=1, reg_lambda=0.0 will be ignored. Current value: lambda_l2=1\n",
      "LGBM model saved to output dir\n"
     ]
    }
   ],
   "source": [
    "model = train_lgbm_model(feature_df, features_selected_for_training, target, categoricals, params)\n",
    "\n",
    "# save model\n",
    "joblib.dump(model, os.path.join(CFG.OUTPUT_DIR, 'lgb_model_val.pkl'))\n",
    "\n",
    "print('LGBM model saved to output dir')\n",
    "\n",
    "# feature importance\n",
    "fi_df = pd.DataFrame()\n",
    "fi_df['features_selected_for_training'] = features_selected_for_training\n",
    "fi_df['importance'] = model.booster_.feature_importance(importance_type=\"gain\")"
   ]
  },
  {
   "cell_type": "code",
   "execution_count": 20,
   "id": "43f718bd",
   "metadata": {
    "execution": {
     "iopub.execute_input": "2023-10-31T13:49:12.714825Z",
     "iopub.status.busy": "2023-10-31T13:49:12.714111Z",
     "iopub.status.idle": "2023-10-31T13:49:13.030902Z",
     "shell.execute_reply": "2023-10-31T13:49:13.030095Z"
    },
    "papermill": {
     "duration": 0.330835,
     "end_time": "2023-10-31T13:49:13.033116",
     "exception": false,
     "start_time": "2023-10-31T13:49:12.702281",
     "status": "completed"
    },
    "tags": []
   },
   "outputs": [
    {
     "data": {
      "text/plain": [
       "<Axes: xlabel='importance', ylabel='features_selected_for_training'>"
      ]
     },
     "execution_count": 20,
     "metadata": {},
     "output_type": "execute_result"
    },
    {
     "data": {
      "image/png": "[encoded data removed]",
      "text/plain": [
       "<Figure size 700x1500 with 1 Axes>"
      ]
     },
     "metadata": {},
     "output_type": "display_data"
    }
   ],
   "source": [
    "# plot feature importance\n",
    "fig, ax = plt.subplots(1, 1, figsize=(7, 15))\n",
    "sns.barplot(\n",
    "    x='importance'\n",
    "    , y='features_selected_for_training'\n",
    "    , data=fi_df.sort_values(by=['importance'], ascending=False)\n",
    "    , ax=ax\n",
    ")"
   ]
  },
  {
   "cell_type": "markdown",
   "id": "bd4bc100",
   "metadata": {
    "papermill": {
     "duration": 0.010821,
     "end_time": "2023-10-31T13:49:13.055620",
     "exception": false,
     "start_time": "2023-10-31T13:49:13.044799",
     "status": "completed"
    },
    "tags": []
   },
   "source": [
    "### Train individual model (i.e. for each asset a model file will be saved)"
   ]
  },
  {
   "cell_type": "code",
   "execution_count": 21,
   "id": "b5a20cd4",
   "metadata": {
    "execution": {
     "iopub.execute_input": "2023-10-31T13:49:13.080171Z",
     "iopub.status.busy": "2023-10-31T13:49:13.079467Z",
     "iopub.status.idle": "2023-10-31T13:50:40.524999Z",
     "shell.execute_reply": "2023-10-31T13:50:40.523726Z"
    },
    "papermill": {
     "duration": 87.461159,
     "end_time": "2023-10-31T13:50:40.527573",
     "exception": false,
     "start_time": "2023-10-31T13:49:13.066414",
     "status": "completed"
    },
    "tags": []
   },
   "outputs": [
    {
     "name": "stdout",
     "output_type": "stream",
     "text": [
      "lgb model for Bitcoin Cash saved!\n",
      "lgb model for Binance Coin saved!\n",
      "lgb model for Bitcoin saved!\n",
      "lgb model for EOS.IO saved!\n",
      "lgb model for Ethereum Classic saved!\n",
      "lgb model for Ethereum saved!\n",
      "lgb model for Litecoin saved!\n",
      "lgb model for Monero saved!\n",
      "lgb model for TRON saved!\n",
      "lgb model for Stellar saved!\n",
      "lgb model for Cardano saved!\n",
      "lgb model for IOTA saved!\n",
      "lgb model for Maker saved!\n",
      "lgb model for Dogecoin saved!\n"
     ]
    }
   ],
   "source": [
    "def train_lgbm_model_for_asset(asset, feature_df, features_selected_for_training, target, params, output_dir):\n",
    "    \"\"\"\n",
    "    Train an LGBM model on the given feature DataFrame for a specific asset, and save the model.\n",
    "    \n",
    "    Parameters\n",
    "    ----------\n",
    "    asset : int\n",
    "        Asset_ID for which the model is trained\n",
    "    feature_df : pd.DataFrame\n",
    "        DataFrame containing the features and target variable\n",
    "    features_selected_for_training : list of str\n",
    "        List of selected feature names used for training the model\n",
    "    target : str\n",
    "        Name of the target variable\n",
    "    params : dict\n",
    "        Dictionary of parameters for the LGBM model\n",
    "    output_dir : str\n",
    "        Directory to save the trained model\n",
    "    \"\"\"\n",
    "\n",
    "    # Instantiate the LGBM model\n",
    "    model = lgb.LGBMRegressor(**params)\n",
    "\n",
    "    # Train the model on the specific asset and validate\n",
    "    train_data = feature_df.query('train_flg == 1 and Asset_ID == @asset')\n",
    "    val_data = feature_df.query('train_flg == 0 and Asset_ID == @asset')\n",
    "    \n",
    "    model.fit(\n",
    "        train_data[features_selected_for_training],\n",
    "        train_data[target].values, \n",
    "        eval_set=[(val_data[features_selected_for_training], val_data[target].values)],\n",
    "        verbose=-1, \n",
    "        early_stopping_rounds=100,\n",
    "    )\n",
    "    \n",
    "    # Save the model\n",
    "    asset_name = train_data['Asset_Name'].values[0]\n",
    "    model_path = os.path.join(output_dir, f'lgb_model_{asset_name}_val.pkl')\n",
    "    joblib.dump(model, model_path)\n",
    "    print(f'lgb model for {asset_name} saved!')\n",
    "\n",
    "# Train LGBM models for each asset\n",
    "for asset in feature_df['Asset_ID'].unique():\n",
    "    train_lgbm_model_for_asset(asset, feature_df, features_selected_for_training, target, params, CFG.OUTPUT_DIR)"
   ]
  },
  {
   "cell_type": "markdown",
   "id": "767b738d",
   "metadata": {
    "papermill": {
     "duration": 0.011611,
     "end_time": "2023-10-31T13:50:40.551747",
     "exception": false,
     "start_time": "2023-10-31T13:50:40.540136",
     "status": "completed"
    },
    "tags": []
   },
   "source": [
    "### Evaluation score - weighted correlation"
   ]
  },
  {
   "cell_type": "code",
   "execution_count": 22,
   "id": "b5b460d0",
   "metadata": {
    "execution": {
     "iopub.execute_input": "2023-10-31T13:50:40.578469Z",
     "iopub.status.busy": "2023-10-31T13:50:40.577720Z",
     "iopub.status.idle": "2023-10-31T13:50:40.584250Z",
     "shell.execute_reply": "2023-10-31T13:50:40.583368Z"
    },
    "papermill": {
     "duration": 0.022468,
     "end_time": "2023-10-31T13:50:40.586471",
     "exception": false,
     "start_time": "2023-10-31T13:50:40.564003",
     "status": "completed"
    },
    "tags": []
   },
   "outputs": [],
   "source": [
    "def weighted_mean(x, w):\n",
    "    \"\"\"Weighted Mean\"\"\"\n",
    "    return np.sum(x * w) / np.sum(w)\n",
    "\n",
    "def cov(prediction, target, w):\n",
    "    \"\"\"Weighted Covariance\"\"\"\n",
    "    return np.sum(w * (prediction - weighted_mean(prediction, w)) * (target - weighted_mean(target, w))) / np.sum(w)\n",
    "\n",
    "\"\"\" (prediction - weighted_mean(prediction, w)) * (target - weighted_mean(target, w))\n",
    "\n",
    "This calculate the differences between each data point and their respective weighted means. \n",
    "These differences are then element-wise multiplied by the weight array w. \"\"\"\n",
    "\n",
    "def corr(prediction, target, w):\n",
    "    \"\"\"Weighted Correlation\"\"\"\n",
    "    return cov(prediction, target, w) / np.sqrt(cov(prediction, prediction, w) * cov(target, target, w))"
   ]
  },
  {
   "cell_type": "markdown",
   "id": "2c16686a",
   "metadata": {
    "papermill": {
     "duration": 0.011519,
     "end_time": "2023-10-31T13:50:40.610003",
     "exception": false,
     "start_time": "2023-10-31T13:50:40.598484",
     "status": "completed"
    },
    "tags": []
   },
   "source": [
    "### Evaluating the full model"
   ]
  },
  {
   "cell_type": "code",
   "execution_count": 23,
   "id": "78025352",
   "metadata": {
    "execution": {
     "iopub.execute_input": "2023-10-31T13:50:40.635594Z",
     "iopub.status.busy": "2023-10-31T13:50:40.634893Z",
     "iopub.status.idle": "2023-10-31T13:50:56.062982Z",
     "shell.execute_reply": "2023-10-31T13:50:56.062131Z"
    },
    "papermill": {
     "duration": 15.443686,
     "end_time": "2023-10-31T13:50:56.065378",
     "exception": false,
     "start_time": "2023-10-31T13:50:40.621692",
     "status": "completed"
    },
    "tags": []
   },
   "outputs": [
    {
     "name": "stdout",
     "output_type": "stream",
     "text": [
      "Load the FULL MODEL *******************************************\n",
      "\n",
      "- Cardano: Validation Score (weighted correlation) = 0.0266\n",
      "\n",
      "- Bitcoin Cash: Validation Score (weighted correlation) = 0.0042\n",
      "\n",
      "- Binance Coin: Validation Score (weighted correlation) = 0.0196\n",
      "\n",
      "- Bitcoin: Validation Score (weighted correlation) = -0.0188\n",
      "\n",
      "- Dogecoin: Validation Score (weighted correlation) = 0.0137\n",
      "\n",
      "- EOS.IO: Validation Score (weighted correlation) = -0.0000\n",
      "\n",
      "- Ethereum Classic: Validation Score (weighted correlation) = 0.0127\n",
      "\n",
      "- Ethereum: Validation Score (weighted correlation) = 0.0098\n",
      "\n",
      "- Litecoin: Validation Score (weighted correlation) = -0.0152\n",
      "\n",
      "- TRON: Validation Score (weighted correlation) = -0.0026\n",
      "\n",
      "- Stellar: Validation Score (weighted correlation) = 0.0013\n",
      "\n",
      "- Monero: Validation Score (weighted correlation) = -0.0060\n",
      "\n",
      "- IOTA: Validation Score (weighted correlation) = -0.0091\n",
      "\n",
      "- Maker: Validation Score (weighted correlation) = 0.0015\n",
      "=> Overall Validation Score (weighted correlation) = 0.0038\n"
     ]
    }
   ],
   "source": [
    "# Compute the correlation\n",
    "print('Load the FULL MODEL *******************************************')\n",
    "\n",
    "model = joblib.load(os.path.join(CFG.OUTPUT_DIR, 'lgb_model_val.pkl'))\n",
    "\n",
    "val_df = train.query('train_flg == 0').copy()\n",
    "\n",
    "val_df['Prediction'] = model.predict(val_df[features_selected_for_training])\n",
    "\n",
    "for asset in val_df['Asset_ID'].unique():\n",
    "    tmp = val_df.query('Asset_ID == @asset')\n",
    "    coin = tmp['Asset_Name'].values[0]\n",
    "    \n",
    "    r = corr(tmp['Prediction'], tmp['Target'], tmp['Weight'])\n",
    "    \n",
    "    print('')\n",
    "    \n",
    "    print('- {}: Validation Score (weighted correlation) = {:.4f}'.format(coin, r))\n",
    "\n",
    "r = corr(val_df['Prediction'], val_df['Target'], val_df['Weight'])\n",
    "\n",
    "print('=> Overall Validation Score (weighted correlation) = {:.4f}'.format(r))"
   ]
  },
  {
   "cell_type": "markdown",
   "id": "953dd2c7",
   "metadata": {
    "papermill": {
     "duration": 0.013569,
     "end_time": "2023-10-31T13:50:56.092918",
     "exception": false,
     "start_time": "2023-10-31T13:50:56.079349",
     "status": "completed"
    },
    "tags": []
   },
   "source": [
    "### Evaluating the individual models"
   ]
  },
  {
   "cell_type": "code",
   "execution_count": 24,
   "id": "8885b392",
   "metadata": {
    "execution": {
     "iopub.execute_input": "2023-10-31T13:50:56.123960Z",
     "iopub.status.busy": "2023-10-31T13:50:56.123193Z",
     "iopub.status.idle": "2023-10-31T13:50:56.438530Z",
     "shell.execute_reply": "2023-10-31T13:50:56.437236Z"
    },
    "papermill": {
     "duration": 0.335702,
     "end_time": "2023-10-31T13:50:56.441573",
     "exception": false,
     "start_time": "2023-10-31T13:50:56.105871",
     "status": "completed"
    },
    "tags": []
   },
   "outputs": [],
   "source": [
    "asset_name = feature_df.query('Asset_ID == @asset')['Asset_Name'].values[0]"
   ]
  },
  {
   "cell_type": "code",
   "execution_count": 25,
   "id": "3918fa6a",
   "metadata": {
    "execution": {
     "iopub.execute_input": "2023-10-31T13:50:56.470256Z",
     "iopub.status.busy": "2023-10-31T13:50:56.469869Z",
     "iopub.status.idle": "2023-10-31T13:51:12.746917Z",
     "shell.execute_reply": "2023-10-31T13:51:12.745511Z"
    },
    "papermill": {
     "duration": 16.294244,
     "end_time": "2023-10-31T13:51:12.749520",
     "exception": false,
     "start_time": "2023-10-31T13:50:56.455276",
     "status": "completed"
    },
    "tags": []
   },
   "outputs": [
    {
     "name": "stdout",
     "output_type": "stream",
     "text": [
      "INDIVIDUAL MODEL *******************************************\n",
      "\n",
      "- Cardano: Validation Score (weighted correlation) = -0.0025\n",
      "\n",
      "- Bitcoin Cash: Validation Score (weighted correlation) = 0.0040\n",
      "\n",
      "- Binance Coin: Validation Score (weighted correlation) = 0.0100\n",
      "\n",
      "- Bitcoin: Validation Score (weighted correlation) = -0.0167\n",
      "\n",
      "- Dogecoin: Validation Score (weighted correlation) = -0.0032\n",
      "\n",
      "- EOS.IO: Validation Score (weighted correlation) = -0.0037\n",
      "\n",
      "- Ethereum Classic: Validation Score (weighted correlation) = -0.0007\n",
      "\n",
      "- Ethereum: Validation Score (weighted correlation) = 0.0081\n",
      "\n",
      "- Litecoin: Validation Score (weighted correlation) = -0.0122\n",
      "\n",
      "- TRON: Validation Score (weighted correlation) = -0.0055\n",
      "\n",
      "- Stellar: Validation Score (weighted correlation) = -0.0007\n",
      "\n",
      "- Monero: Validation Score (weighted correlation) = 0.0035\n",
      "\n",
      "- IOTA: Validation Score (weighted correlation) = 0.0049\n",
      "\n",
      "- Maker: Validation Score (weighted correlation) = 0.0077\n",
      "=> Overall Validation Score (weighted correlation) = 0.0005\n"
     ]
    }
   ],
   "source": [
    "print('INDIVIDUAL MODEL *******************************************')\n",
    "val_df['Prediction'] = 0\n",
    "for asset in val_df['Asset_ID'].unique():\n",
    "    asset_name = feature_df.query('Asset_ID == @asset')['Asset_Name'].values[0]\n",
    "    # load model\n",
    "    model = joblib.load(os.path.join(CFG.OUTPUT_DIR, 'lgb_model_{}_val.pkl'.format(asset_name)))\n",
    "    \n",
    "    # inference\n",
    "    val_df.loc[val_df['Asset_ID'] == asset, 'Prediction'] = model.predict(val_df.loc[val_df['Asset_ID'] == asset, features_selected_for_training])\n",
    "    # Explanation of => vmodel.predict(val_df.loc[val_df['Asset_ID'] == asset, features_selected_for_training])\n",
    "    # The loc function is a label-based indexer that allows you to select rows and columns by their labels. \n",
    "    # Essentially, this line selects all the rows where the 'Asset_ID' matches the 'asset' variable.\n",
    "    # And then => ..., features_selected_for_training: => This part specifies the columns to be selected from the filtered DataFrame. \n",
    "    # So 'features_selected_for_training\" is a list of column names that you want to keep in the output. So overall, The loc function will return only these columns for the selected rows.\n",
    "    \n",
    "    tmp = val_df.query('Asset_ID == @asset')\n",
    "    \n",
    "    asset_name = tmp['Asset_Name'].values[0]\n",
    "    \n",
    "    r = corr(tmp['Prediction'], tmp['Target'], tmp['Weight'])\n",
    "    \n",
    "    print('')\n",
    "    \n",
    "    print('- {}: Validation Score (weighted correlation) = {:.4f}'.format(asset_name, r))\n",
    "    \n",
    "r = corr(val_df['Prediction'], val_df['Target'], val_df['Weight'])\n",
    "print('=> Overall Validation Score (weighted correlation) = {:.4f}'.format(r))"
   ]
  },
  {
   "cell_type": "markdown",
   "id": "6e43aa97",
   "metadata": {
    "papermill": {
     "duration": 0.013429,
     "end_time": "2023-10-31T13:51:12.777174",
     "exception": false,
     "start_time": "2023-10-31T13:51:12.763745",
     "status": "completed"
    },
    "tags": []
   },
   "source": [
    "The full model seems to be performing better than the individual models."
   ]
  }
 ],
 "metadata": {
  "kernelspec": {
   "display_name": "Python 3",
   "language": "python",
   "name": "python3"
  },
  "language_info": {
   "codemirror_mode": {
    "name": "ipython",
    "version": 3
   },
   "file_extension": ".py",
   "mimetype": "text/x-python",
   "name": "python",
   "nbconvert_exporter": "python",
   "pygments_lexer": "ipython3",
   "version": "3.10.12"
  },
  "papermill": {
   "default_parameters": {},
   "duration": 405.534727,
   "end_time": "2023-10-31T13:51:14.018246",
   "environment_variables": {},
   "exception": null,
   "input_path": "__notebook__.ipynb",
   "output_path": "__notebook__.ipynb",
   "parameters": {},
   "start_time": "2023-10-31T13:44:28.483519",
   "version": "2.4.0"
  }
 },
 "nbformat": 4,
 "nbformat_minor": 5
}
